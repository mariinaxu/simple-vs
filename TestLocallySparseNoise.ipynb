{
 "cells": [
  {
   "cell_type": "code",
   "execution_count": 1,
   "metadata": {},
   "outputs": [],
   "source": [
    "import numpy as np\n",
    "import matplotlib.pyplot as plt"
   ]
  },
  {
   "cell_type": "code",
   "execution_count": 152,
   "metadata": {},
   "outputs": [],
   "source": [
    "\n",
    "\n",
    "class LocallySparseNoise():\n",
    "    \"\"\"\n",
    "    generate locally sparse noise stimulus integrates flashing indicator for\n",
    "    photodiode\n",
    "\n",
    "    This stimulus routine presents quasi-random noise in a specified region of\n",
    "    the monitor. The `background` color can be customized but defaults to a\n",
    "    grey value. Can specify the `subregion` of the monitor where the pixels\n",
    "    will flash on and off (black and white respectively)\n",
    "\n",
    "    Different from SparseNoise stimulus which presents only one probe at a time,\n",
    "    the LocallySparseNoise presents multiple probes simultaneously to speed up\n",
    "    the sampling frequency. The sparsity of probes is defined by minimum distance\n",
    "    in visual degree: in any given frame, the centers of any pair of two probes\n",
    "    will have distance larger than minimum distance in visual degrees. The\n",
    "    method generate locally sparse noise here insures, for each iteration, all\n",
    "    the locations in the subregion will be sampled once and only once.\n",
    "\n",
    "    Parameters\n",
    "    ----------\n",
    "    monitor : monitor object\n",
    "        contains display monitor information\n",
    "    min_distance : float, default 20.\n",
    "        the minimum distance in visual degree for any pair of probe centers\n",
    "        in a given frame\n",
    "    probe_size : 2-tuple of floats, optional\n",
    "        size of flicker probes. First coordinate defines the width, and\n",
    "        second coordinate defines the height\n",
    "    probe_orientation : float, optional\n",
    "        orientation of flicker probes\n",
    "    sign : {'ON-OFF', 'ON', 'OFF'}, optional\n",
    "        determines which pixels appear in the `subregion`, defaults to\n",
    "        `'ON-Off'` so that both on and off pixels appear. If `'ON` selected\n",
    "        only on pixels (white) are displayed in the noise `subregion while if\n",
    "        `'OFF'` is selected only off (black) pixels are displayed in the noise\n",
    "    iteration : int, optional\n",
    "        number of times to present stimulus with random order, the total number\n",
    "        a paticular probe will be displayded will be iteration * repeat, for\n",
    "        each iteration, a new sequence will be generated. defaults to `1`\n",
    "    repeat : int, optional\n",
    "        number of repeat of whole sequence, the total number a paticular probe\n",
    "        to be displayded will be iteration * repeat, defaults to `1`\n",
    "    is_include_edge : bool, default True,\n",
    "        if True, the displayed probes will cover the edge case and ensure that\n",
    "        the entire subregion is covered.\n",
    "        If False, the displayed probes will exclude edge case and ensure that all\n",
    "        the centers of displayed probes are within the subregion.\n",
    "    \"\"\"\n",
    "\n",
    "    def __init__(self, monitor, min_distance=20., probe_size=(10., 10.), probe_orientation=0.,\n",
    "                 subregion=None, sign='ON-OFF', iteration=1, repeat=1):\n",
    "        \"\"\"\n",
    "        Initialize sparse noise object, inherits Parameters from Stim object\n",
    "        \"\"\"\n",
    "\n",
    "#         super(LocallySparseNoise, self).__init__(monitor=monitor, indicator=indicator,\n",
    "#                                                  background=background, coordinate=coordinate,\n",
    "#                                                  pregap_dur=pregap_dur, postgap_dur=postgap_dur)\n",
    "        self.monitor = monitor\n",
    "        self.stim_name = 'LocallySparseNoise'\n",
    "        self.probe_size = probe_size\n",
    "        self.min_distance = float(min_distance)\n",
    "        self.probe_orientation = probe_orientation\n",
    "\n",
    "        self.frame_config = ('is_display', 'probes ((altitude, azimuth, sign), ...)',\n",
    "                             'iteration', 'indicator color [-1., 1.]')\n",
    "\n",
    "\n",
    "        self.sign = sign\n",
    "\n",
    "        if iteration >= 1:\n",
    "            self.iteration = int(iteration)\n",
    "        else:\n",
    "            raise ValueError('iteration should be no less than 1.')\n",
    "\n",
    "        if repeat >= 1:\n",
    "            self.repeat = int(repeat)\n",
    "        else:\n",
    "            raise ValueError('repeat should be no less than 1.')\n",
    "\n",
    "        #self.clear()\n",
    "\n",
    "    def look_up_probe_coordinate(self, alt, azi):\n",
    "        alt_loc = np.where(self.alt_probe_coords ==  alt)[0][0] # alt\n",
    "        azi_loc = np.where(self.azi_probe_coords ==  azi)[0][0] # alt\n",
    "\n",
    "        return [alt_loc, azi_loc]\n",
    "\n",
    "    def _get_grid_locations(self, is_plot=False):\n",
    "        \"\"\"\n",
    "        generate all the grid points in display area (covered by both subregion and\n",
    "        monitor span)\n",
    "\n",
    "        Returns\n",
    "        -------\n",
    "        grid_points : n x 2 array,\n",
    "            refined [azi, alt] pairs of probe centers going to be displayed\n",
    "        \"\"\"\n",
    "\n",
    "        self.alt_probe_coords = np.linspace(monitor.alt_min_coord, \n",
    "                               monitor.alt_max_coord, \n",
    "                               int((monitor.alt_max_coord-monitor.alt_min_coord)//self.probe_size[0]))\n",
    "\n",
    "        self.azi_probe_coords = np.linspace(monitor.azi_min_coord, \n",
    "                               monitor.azi_max_coord, \n",
    "                               int((monitor.azi_max_coord-monitor.azi_min_coord)//self.probe_size[1]))\n",
    "        \n",
    "        \n",
    "        grid_locations = []\n",
    "        for alt in self.alt_probe_coords:\n",
    "            for azi in self.azi_probe_coords:\n",
    "                grid_locations.append([alt, azi])\n",
    "        grid_locations = np.array(grid_locations)\n",
    "\n",
    "        return grid_locations\n",
    "\n",
    "    def _generate_all_probes(self):\n",
    "        \"\"\"\n",
    "        return all possible (grid location + sign) combinations within the subregion,\n",
    "        return a list of probe parameters, each element in the list is\n",
    "        [center_altitude, center_azimuth, sign]\n",
    "        \"\"\"\n",
    "        grid_locs = self._get_grid_locations()\n",
    "\n",
    "        grid_locs = list([list(gl) for gl in grid_locs])\n",
    "\n",
    "        if self.sign == 'ON':\n",
    "            all_probes = [gl + [1.] for gl in grid_locs]\n",
    "        elif self.sign == 'OFF':\n",
    "            all_probes = [gl + [-1.] for gl in grid_locs]\n",
    "        elif self.sign == 'ON-OFF':\n",
    "            all_probes = [gl + [1.] for gl in grid_locs] + [gl + [-1.] for gl in grid_locs]\n",
    "        else:\n",
    "            raise ValueError('LocallySparseNoise: Cannot understand self.sign, should be '\n",
    "                             'one of \"ON\", \"OFF\", \"ON-OFF\".')\n",
    "        return all_probes\n",
    "\n",
    "    def _generate_probe_locs_one_frame(self, probes):\n",
    "        \"\"\"\n",
    "        given the available probes, generate a sublist of the probes for a single frame,\n",
    "        all the probes in the sublist will have their visual space distance longer than\n",
    "        self.min_distance. This function will also update input probes, remove the\n",
    "        elements that have been selected into the sublist.\n",
    "\n",
    "        parameters\n",
    "        ----------\n",
    "        probes : list of all available probes\n",
    "            each elements is [center_altitude, center_azimuth, sign] for a particular probe\n",
    "        min_dis : float\n",
    "            minimum distance to reject probes too close to each other\n",
    "\n",
    "        returns\n",
    "        -------\n",
    "        probes_one_frame : list of selected probes fo one frame\n",
    "            each elements is [center_altitude, center_azimuth, sign] for a selected probe\n",
    "        \"\"\"\n",
    "\n",
    "        np.random.shuffle(probes)\n",
    "        probes_one_frame = []\n",
    "\n",
    "        probes_left = list(probes)\n",
    "\n",
    "        for probe in probes:\n",
    "\n",
    "            is_overlap = False\n",
    "\n",
    "            for probe_frame in probes_one_frame:\n",
    "                curr_dis = distance([probe[0], probe[1]], [probe_frame[0], probe_frame[1]])\n",
    "                if curr_dis <= self.min_distance:\n",
    "                    is_overlap = True\n",
    "                    break\n",
    "\n",
    "            if not is_overlap:\n",
    "                probes_one_frame.append(probe)\n",
    "                probes_left.remove(probe)\n",
    "\n",
    "        return probes_one_frame, probes_left\n",
    "\n",
    "    def _generate_probe_sequence_one_iteration(self, all_probes, is_redistribute=True):\n",
    "        \"\"\"\n",
    "        given all probes to be displayed and minimum distance between any pair of two probes\n",
    "        return frames of one iteration that ensure all probes will be present once\n",
    "\n",
    "        parameters\n",
    "        ----------\n",
    "        all_probes : list\n",
    "            all probes to be displayed, each element (center_alt, center_azi, sign). ideally\n",
    "            outputs of self._generate_all_probes()\n",
    "        is_redistribute : bool\n",
    "            redistribute the probes among frames after initial generation or not.\n",
    "            redistribute will use self._redistribute_probes() and try to minimize the difference\n",
    "            of probe numbers among different frames\n",
    "\n",
    "        returns\n",
    "        -------\n",
    "        frames : tuple\n",
    "            each element of the frames tuple represent one display frame, the element itself\n",
    "            is a tuple of the probes to be displayed in this particular frame\n",
    "        \"\"\"\n",
    "\n",
    "        all_probes_cpy = list(all_probes)\n",
    "\n",
    "        frames = []\n",
    "\n",
    "        while len(all_probes_cpy) > 0:\n",
    "            curr_frames, all_probes_cpy = self._generate_probe_locs_one_frame(probes=all_probes_cpy)\n",
    "            frames.append(curr_frames)\n",
    "\n",
    "        if is_redistribute:\n",
    "            frames = self._redistribute_probes(frames=frames)\n",
    "\n",
    "        frames = tuple(tuple(f) for f in frames)\n",
    "\n",
    "        return frames\n",
    "\n",
    "    def _redistribute_one_probe(self, frames):\n",
    "\n",
    "        # initiate is_moved variable\n",
    "        is_moved = False\n",
    "\n",
    "        # reorder frames from most probes to least probes\n",
    "        new_frames = sorted(frames, key=lambda frame: len(frame))\n",
    "        probe_num_most = len(new_frames[-1])\n",
    "\n",
    "        # the indices of frames in new_frames that contain most probes\n",
    "        frame_ind_most = []\n",
    "\n",
    "        # the indices of frames in new_frames that contain less probes\n",
    "        frame_ind_less = []\n",
    "\n",
    "        for frame_ind, frame in enumerate(new_frames):\n",
    "            if len(frame) == probe_num_most:\n",
    "                frame_ind_most.append(frame_ind)\n",
    "            elif len(frame) <= probe_num_most - 2:  # '-1' means well distributed\n",
    "                frame_ind_less.append(frame_ind)\n",
    "\n",
    "        # constructing a list of probes that potentially can be moved\n",
    "        # each element is [(center_alt, center_azi, sign), frame_ind]\n",
    "        probes_to_be_moved = []\n",
    "        for frame_ind in frame_ind_most:\n",
    "            frame_most = new_frames[frame_ind]\n",
    "            for probe in frame_most:\n",
    "                probes_to_be_moved.append((probe, frame_ind))\n",
    "\n",
    "        # loop through probes_to_be_moved to see if any of them will fit into\n",
    "        # frames with less probes, once find a case, break the loop and return\n",
    "        for probe, frame_ind_src in probes_to_be_moved:\n",
    "            frame_src = new_frames[frame_ind_src]\n",
    "            for frame_ind_dst in frame_ind_less:\n",
    "                frame_dst = new_frames[frame_ind_dst]\n",
    "                if self._is_fit(probe, frame_dst):\n",
    "                    frame_src.remove(probe)\n",
    "                    frame_dst.append(probe)\n",
    "                    is_moved = True\n",
    "                    break\n",
    "            if is_moved:\n",
    "                break\n",
    "\n",
    "        return is_moved, new_frames\n",
    "\n",
    "    def _is_fit(self, probe, probes):\n",
    "        \"\"\"\n",
    "        test if a given probe will fit a group of probes without breaking the\n",
    "        sparcity\n",
    "\n",
    "        parameters\n",
    "        ----------\n",
    "        probe : list or tuple of three floats\n",
    "            (center_alt, center_azi, sign)\n",
    "        probes : list of probes\n",
    "            [(center_alt, center_zai, sign), (center_alt, center_azi, sign), ...]\n",
    "\n",
    "        returns\n",
    "        -------\n",
    "        is_fit : bool\n",
    "            the probe will fit or not\n",
    "        \"\"\"\n",
    "\n",
    "        is_fit = True\n",
    "        for probe2 in probes:\n",
    "            if distance([probe[0], probe[1]], [probe2[0], probe2[1]]) <= self.min_distance:\n",
    "                is_fit = False\n",
    "                break\n",
    "        return is_fit\n",
    "\n",
    "    def _redistribute_probes(self, frames):\n",
    "        \"\"\"\n",
    "        attempt to redistribute probes among frames for one iteration of display\n",
    "        the algorithm is to pick a probe from the frames with most probes to the\n",
    "        frames with least probes and do it iteratively until it can not move\n",
    "        anymore and the biggest difference of probe numbers among all frames is\n",
    "        no more than 1 (most evenly distributed).\n",
    "\n",
    "        the algorithm is implemented by self._redistribute_probes() function,\n",
    "        this is just to roughly massage the probes among frames, but not the\n",
    "        attempt to find the best solution.\n",
    "\n",
    "        parameters\n",
    "        ----------\n",
    "        frames : list\n",
    "            each element of the frames list represent one display frame, the element\n",
    "            itself is a list of the probes (center_alt, center_azi, sign) to be\n",
    "            displayed in this particular frame\n",
    "\n",
    "        returns\n",
    "        -------\n",
    "        new_frames : list\n",
    "            same structure as input frames but with redistributed probes\n",
    "        \"\"\"\n",
    "\n",
    "        new_frames = list(frames)\n",
    "        is_moved = True\n",
    "        probe_nums = [len(frame) for frame in new_frames]\n",
    "        probe_nums.sort()\n",
    "        probe_diff = probe_nums[-1] - probe_nums[0]\n",
    "\n",
    "        while is_moved and probe_diff > 1:\n",
    "\n",
    "            is_moved, new_frames = self._redistribute_one_probe(new_frames)\n",
    "            probe_nums = [len(frame) for frame in new_frames]\n",
    "            probe_nums.sort()\n",
    "            probe_diff = probe_nums[-1] - probe_nums[0]\n",
    "        else:\n",
    "            if not is_moved:\n",
    "                # print ('redistributing probes among frames: no more probes can be moved.')\n",
    "                pass\n",
    "            if probe_diff <= 1:\n",
    "                # print ('redistributing probes among frames: probes already well distributed.')\n",
    "                pass\n",
    "\n",
    "        return new_frames\n",
    "\n",
    "    def _generate_frames_for_index_display(self):\n",
    "        \"\"\"\n",
    "        compute the information that defines the frames used for index display\n",
    "\n",
    "        parameters\n",
    "        ----------\n",
    "        all_probes : list\n",
    "            all probes to be displayed, each element (center_alt, center_azi, sign). ideally\n",
    "            outputs of self._generate_all_probes()\n",
    "\n",
    "        returns\n",
    "        -------\n",
    "        frames_unique : tuple\n",
    "        \"\"\"\n",
    "        all_probes = self._generate_all_probes()\n",
    "\n",
    "        frames_unique = []\n",
    "\n",
    "        #gap = [0., None, None, -1.]\n",
    "        #frames_unique.append(gap)\n",
    "        for i in range(self.iteration):\n",
    "            probes_iter = self._generate_probe_sequence_one_iteration(all_probes=all_probes,\n",
    "                                                                      is_redistribute=True)\n",
    "            for probes in probes_iter:\n",
    "                frames_unique.append([1., probes, i])\n",
    "                #frames_unique.append([1., probes, i, -1.])\n",
    "\n",
    "        frames_unique = tuple([tuple(f) for f in frames_unique])\n",
    "\n",
    "        return frames_unique\n",
    "\n",
    "    def generate_randomization(self):\n",
    "        \"\"\"\n",
    "        compute a list of indices corresponding to each frame to display.\n",
    "        \"\"\"\n",
    "        self.frames_unique = self._generate_frames_for_index_display()\n",
    "        self.list_of_indices = list(np.arange(len(self.frames_unique)))*self.repeat\n",
    "\n",
    "        np.random.shuffle(self.list_of_indices)\n"
   ]
  },
  {
   "cell_type": "code",
   "execution_count": 160,
   "metadata": {},
   "outputs": [
    {
     "output_type": "execute_result",
     "data": {
      "text/plain": [
       "49.5"
      ]
     },
     "metadata": {},
     "execution_count": 160
    }
   ],
   "source": [
    "88*(1080/1920)"
   ]
  },
  {
   "cell_type": "code",
   "execution_count": 154,
   "metadata": {},
   "outputs": [],
   "source": [
    "class MyMonitor:\n",
    "    def __init__(self, viewing_distance, width_cm, height_cm):\n",
    "        self.viewing_distance = viewing_distance\n",
    "        self.width_cm = width_cm\n",
    "        self.height_cm = height_cm\n",
    "        \n",
    "        self.azi_min_coord = -np.arctan((self.width_cm/2)/self.viewing_distance)*180/np.pi\n",
    "        self.azi_max_coord = np.arctan((self.width_cm/2)/self.viewing_distance)*180/np.pi\n",
    "        self.alt_min_coord = -np.arctan((self.height_cm/2)/self.viewing_distance)*180/np.pi\n",
    "        self.alt_max_coord = np.arctan((self.height_cm/2)/self.viewing_distance)*180/np.pi"
   ]
  },
  {
   "cell_type": "code",
   "execution_count": 166,
   "metadata": {},
   "outputs": [
    {
     "output_type": "execute_result",
     "data": {
      "text/plain": [
       "16.875"
      ]
     },
     "metadata": {},
     "execution_count": 166
    }
   ],
   "source": [
    "30*(1080/1920)"
   ]
  },
  {
   "cell_type": "code",
   "execution_count": 179,
   "metadata": {},
   "outputs": [],
   "source": [
    "monitor = Monitor(10, 30, 16.875)"
   ]
  },
  {
   "cell_type": "code",
   "execution_count": 194,
   "metadata": {},
   "outputs": [],
   "source": [
    "lsn = LocallySparseNoise(monitor, min_distance=20, probe_size=(4,4),\n",
    "                         probe_orientation=0, iteration=1, repeat=10)"
   ]
  },
  {
   "cell_type": "code",
   "execution_count": 195,
   "metadata": {},
   "outputs": [],
   "source": [
    "lsn.generate_randomization()"
   ]
  },
  {
   "cell_type": "code",
   "execution_count": 197,
   "metadata": {},
   "outputs": [
    {
     "output_type": "execute_result",
     "data": {
      "text/plain": [
       "array([-26.56505118, -22.13754265, -17.71003412, -13.28252559,\n",
       "        -8.85501706,  -4.42750853,   0.        ,   4.42750853,\n",
       "         8.85501706,  13.28252559,  17.71003412,  22.13754265,\n",
       "        26.56505118])"
      ]
     },
     "metadata": {},
     "execution_count": 197
    }
   ],
   "source": [
    "lsn.azi_probe_coords"
   ]
  },
  {
   "cell_type": "code",
   "execution_count": 183,
   "metadata": {},
   "outputs": [],
   "source": [
    "probes_image = np.zeros((lsn.alt_probe_coords.shape[0], lsn.azi_probe_coords.shape[0]))"
   ]
  },
  {
   "cell_type": "code",
   "execution_count": 198,
   "metadata": {},
   "outputs": [],
   "source": [
    "def look_up_probe_coordinate(self, alt, azi):\n",
    "\n",
    "    y_loc = np.where(self.alt_probe_coords ==  alt)[0][0] # alt\n",
    "    x_loc = np.where(self.azi_probe_coords ==  azi)[0][0] # alt\n",
    "\n",
    "    return [y_loc, x_lock]s"
   ]
  },
  {
   "cell_type": "code",
   "execution_count": 199,
   "metadata": {},
   "outputs": [
    {
     "output_type": "stream",
     "name": "stdout",
     "text": [
      "3\n4\n"
     ]
    }
   ],
   "source": [
    "max_n_probes = 0\n",
    "for i in range(len(lsn.frames_unique)):\n",
    "    tmp = len(lsn.frames_unique[i][1])\n",
    "    if tmp > max_n_probes:\n",
    "        max_n_probes = tmp\n",
    "        print(max_n_probes)"
   ]
  },
  {
   "cell_type": "code",
   "execution_count": 200,
   "metadata": {},
   "outputs": [
    {
     "output_type": "execute_result",
     "data": {
      "text/plain": [
       "4"
      ]
     },
     "metadata": {},
     "execution_count": 200
    }
   ],
   "source": [
    "max_n_probes"
   ]
  },
  {
   "cell_type": "code",
   "execution_count": 201,
   "metadata": {},
   "outputs": [],
   "source": [
    "for i in range(len(lsn.frames_unique)):\n",
    "    for probe in lsn.frames_unique[i][1]:\n",
    "        alt, azi = probe[0:2]\n",
    "        row, col = lsn.look_up_probe_coordinate(alt, azi)\n",
    "        probes_image[row, col] += 1\n",
    "        "
   ]
  },
  {
   "cell_type": "code",
   "execution_count": 202,
   "metadata": {},
   "outputs": [
    {
     "output_type": "execute_result",
     "data": {
      "text/plain": [
       "array([[4., 4., 4., 4., 4., 4., 4., 4., 4., 4., 4., 4., 4.],\n",
       "       [4., 4., 4., 4., 4., 4., 4., 4., 4., 4., 4., 4., 4.],\n",
       "       [4., 4., 4., 4., 4., 4., 4., 4., 4., 4., 4., 4., 4.],\n",
       "       [4., 4., 4., 4., 4., 4., 4., 4., 4., 4., 4., 4., 4.],\n",
       "       [4., 4., 4., 4., 4., 4., 4., 4., 4., 4., 4., 4., 4.],\n",
       "       [4., 4., 4., 4., 4., 4., 4., 4., 4., 4., 4., 4., 4.],\n",
       "       [4., 4., 4., 4., 4., 4., 4., 4., 4., 4., 4., 4., 4.]])"
      ]
     },
     "metadata": {},
     "execution_count": 202
    }
   ],
   "source": [
    "probes_image"
   ]
  },
  {
   "cell_type": "code",
   "execution_count": 203,
   "metadata": {},
   "outputs": [
    {
     "output_type": "display_data",
     "data": {
      "text/plain": "<Figure size 432x288 with 1 Axes>",
      "image/svg+xml": "<?xml version=\"1.0\" encoding=\"utf-8\" standalone=\"no\"?>\n<!DOCTYPE svg PUBLIC \"-//W3C//DTD SVG 1.1//EN\"\n  \"http://www.w3.org/Graphics/SVG/1.1/DTD/svg11.dtd\">\n<svg height=\"248.518125pt\" version=\"1.1\" viewBox=\"0 0 377.304688 248.518125\" width=\"377.304688pt\" xmlns=\"http://www.w3.org/2000/svg\" xmlns:xlink=\"http://www.w3.org/1999/xlink\">\n <metadata>\n  <rdf:RDF xmlns:cc=\"http://creativecommons.org/ns#\" xmlns:dc=\"http://purl.org/dc/elements/1.1/\" xmlns:rdf=\"http://www.w3.org/1999/02/22-rdf-syntax-ns#\">\n   <cc:Work>\n    <dc:type rdf:resource=\"http://purl.org/dc/dcmitype/StillImage\"/>\n    <dc:date>2021-08-18T11:17:38.528026</dc:date>\n    <dc:format>image/svg+xml</dc:format>\n    <dc:creator>\n     <cc:Agent>\n      <dc:title>Matplotlib v3.4.3, https://matplotlib.org/</dc:title>\n     </cc:Agent>\n    </dc:creator>\n   </cc:Work>\n  </rdf:RDF>\n </metadata>\n <defs>\n  <style type=\"text/css\">*{stroke-linecap:butt;stroke-linejoin:round;}</style>\n </defs>\n <g id=\"figure_1\">\n  <g id=\"patch_1\">\n   <path d=\"M 0 248.518125 \nL 377.304688 248.518125 \nL 377.304688 0 \nL 0 0 \nz\n\" style=\"fill:none;\"/>\n  </g>\n  <g id=\"axes_1\">\n   <g id=\"patch_2\">\n    <path d=\"M 35.304688 224.64 \nL 370.104688 224.64 \nL 370.104688 7.2 \nL 35.304688 7.2 \nz\n\" style=\"fill:#ffffff;\"/>\n   </g>\n   <g id=\"PathCollection_1\">\n    <defs>\n     <path d=\"M 0 3 \nC 0.795609 3 1.55874 2.683901 2.12132 2.12132 \nC 2.683901 1.55874 3 0.795609 3 0 \nC 3 -0.795609 2.683901 -1.55874 2.12132 -2.12132 \nC 1.55874 -2.683901 0.795609 -3 0 -3 \nC -0.795609 -3 -1.55874 -2.683901 -2.12132 -2.12132 \nC -2.683901 -1.55874 -3 -0.795609 -3 0 \nC -3 0.795609 -2.683901 1.55874 -2.12132 2.12132 \nC -1.55874 2.683901 -0.795609 3 0 3 \nz\n\" id=\"m2bd63d8493\" style=\"stroke:#1f77b4;\"/>\n    </defs>\n    <g clip-path=\"url(#p66cc3129af)\">\n     <use style=\"fill:#1f77b4;stroke:#1f77b4;\" x=\"151.977415\" xlink:href=\"#m2bd63d8493\" y=\"115.92\"/>\n    </g>\n   </g>\n   <g id=\"PathCollection_2\">\n    <defs>\n     <path d=\"M 0 3 \nC 0.795609 3 1.55874 2.683901 2.12132 2.12132 \nC 2.683901 1.55874 3 0.795609 3 0 \nC 3 -0.795609 2.683901 -1.55874 2.12132 -2.12132 \nC 1.55874 -2.683901 0.795609 -3 0 -3 \nC -0.795609 -3 -1.55874 -2.683901 -2.12132 -2.12132 \nC -2.683901 -1.55874 -3 -0.795609 -3 0 \nC -3 0.795609 -2.683901 1.55874 -2.12132 2.12132 \nC -1.55874 2.683901 -0.795609 3 0 3 \nz\n\" id=\"mf9b89584ef\" style=\"stroke:#ff7f0e;\"/>\n    </defs>\n    <g clip-path=\"url(#p66cc3129af)\">\n     <use style=\"fill:#ff7f0e;stroke:#ff7f0e;\" x=\"329.522869\" xlink:href=\"#mf9b89584ef\" y=\"82.974545\"/>\n    </g>\n   </g>\n   <g id=\"PathCollection_3\">\n    <defs>\n     <path d=\"M 0 3 \nC 0.795609 3 1.55874 2.683901 2.12132 2.12132 \nC 2.683901 1.55874 3 0.795609 3 0 \nC 3 -0.795609 2.683901 -1.55874 2.12132 -2.12132 \nC 1.55874 -2.683901 0.795609 -3 0 -3 \nC -0.795609 -3 -1.55874 -2.683901 -2.12132 -2.12132 \nC -2.683901 -1.55874 -3 -0.795609 -3 0 \nC -3 0.795609 -2.683901 1.55874 -2.12132 2.12132 \nC -1.55874 2.683901 -0.795609 3 0 3 \nz\n\" id=\"mc57c3a2a5c\" style=\"stroke:#2ca02c;\"/>\n    </defs>\n    <g clip-path=\"url(#p66cc3129af)\">\n     <use style=\"fill:#2ca02c;stroke:#2ca02c;\" x=\"50.522869\" xlink:href=\"#mc57c3a2a5c\" y=\"214.756364\"/>\n    </g>\n   </g>\n   <g id=\"PathCollection_4\">\n    <defs>\n     <path d=\"M 0 3 \nC 0.795609 3 1.55874 2.683901 2.12132 2.12132 \nC 2.683901 1.55874 3 0.795609 3 0 \nC 3 -0.795609 2.683901 -1.55874 2.12132 -2.12132 \nC 1.55874 -2.683901 0.795609 -3 0 -3 \nC -0.795609 -3 -1.55874 -2.683901 -2.12132 -2.12132 \nC -2.683901 -1.55874 -3 -0.795609 -3 0 \nC -3 0.795609 -2.683901 1.55874 -2.12132 2.12132 \nC -1.55874 2.683901 -0.795609 3 0 3 \nz\n\" id=\"mb5817c2508\" style=\"stroke:#d62728;\"/>\n    </defs>\n    <g clip-path=\"url(#p66cc3129af)\">\n     <use style=\"fill:#d62728;stroke:#d62728;\" x=\"253.43196\" xlink:href=\"#mb5817c2508\" y=\"50.029091\"/>\n    </g>\n   </g>\n   <g id=\"PathCollection_5\">\n    <defs>\n     <path d=\"M 0 3 \nC 0.795609 3 1.55874 2.683901 2.12132 2.12132 \nC 2.683901 1.55874 3 0.795609 3 0 \nC 3 -0.795609 2.683901 -1.55874 2.12132 -2.12132 \nC 1.55874 -2.683901 0.795609 -3 0 -3 \nC -0.795609 -3 -1.55874 -2.683901 -2.12132 -2.12132 \nC -2.683901 -1.55874 -3 -0.795609 -3 0 \nC -3 0.795609 -2.683901 1.55874 -2.12132 2.12132 \nC -1.55874 2.683901 -0.795609 3 0 3 \nz\n\" id=\"mb74effecec\" style=\"stroke:#9467bd;\"/>\n    </defs>\n    <g clip-path=\"url(#p66cc3129af)\">\n     <use style=\"fill:#9467bd;stroke:#9467bd;\" x=\"126.613778\" xlink:href=\"#mb74effecec\" y=\"181.810909\"/>\n    </g>\n   </g>\n   <g id=\"PathCollection_6\">\n    <defs>\n     <path d=\"M 0 3 \nC 0.795609 3 1.55874 2.683901 2.12132 2.12132 \nC 2.683901 1.55874 3 0.795609 3 0 \nC 3 -0.795609 2.683901 -1.55874 2.12132 -2.12132 \nC 1.55874 -2.683901 0.795609 -3 0 -3 \nC -0.795609 -3 -1.55874 -2.683901 -2.12132 -2.12132 \nC -2.683901 -1.55874 -3 -0.795609 -3 0 \nC -3 0.795609 -2.683901 1.55874 -2.12132 2.12132 \nC -1.55874 2.683901 -0.795609 3 0 3 \nz\n\" id=\"m7fbe761db6\" style=\"stroke:#8c564b;\"/>\n    </defs>\n    <g clip-path=\"url(#p66cc3129af)\">\n     <use style=\"fill:#8c564b;stroke:#8c564b;\" x=\"101.250142\" xlink:href=\"#m7fbe761db6\" y=\"17.083636\"/>\n    </g>\n   </g>\n   <g id=\"PathCollection_7\">\n    <defs>\n     <path d=\"M 0 3 \nC 0.795609 3 1.55874 2.683901 2.12132 2.12132 \nC 2.683901 1.55874 3 0.795609 3 0 \nC 3 -0.795609 2.683901 -1.55874 2.12132 -2.12132 \nC 1.55874 -2.683901 0.795609 -3 0 -3 \nC -0.795609 -3 -1.55874 -2.683901 -2.12132 -2.12132 \nC -2.683901 -1.55874 -3 -0.795609 -3 0 \nC -3 0.795609 -2.683901 1.55874 -2.12132 2.12132 \nC -1.55874 2.683901 -0.795609 3 0 3 \nz\n\" id=\"m1703458d37\" style=\"stroke:#e377c2;\"/>\n    </defs>\n    <g clip-path=\"url(#p66cc3129af)\">\n     <use style=\"fill:#e377c2;stroke:#e377c2;\" x=\"354.886506\" xlink:href=\"#m1703458d37\" y=\"181.810909\"/>\n    </g>\n   </g>\n   <g id=\"PathCollection_8\">\n    <defs>\n     <path d=\"M 0 3 \nC 0.795609 3 1.55874 2.683901 2.12132 2.12132 \nC 2.683901 1.55874 3 0.795609 3 0 \nC 3 -0.795609 2.683901 -1.55874 2.12132 -2.12132 \nC 1.55874 -2.683901 0.795609 -3 0 -3 \nC -0.795609 -3 -1.55874 -2.683901 -2.12132 -2.12132 \nC -2.683901 -1.55874 -3 -0.795609 -3 0 \nC -3 0.795609 -2.683901 1.55874 -2.12132 2.12132 \nC -1.55874 2.683901 -0.795609 3 0 3 \nz\n\" id=\"m7953a65f28\" style=\"stroke:#7f7f7f;\"/>\n    </defs>\n    <g clip-path=\"url(#p66cc3129af)\">\n     <use style=\"fill:#7f7f7f;stroke:#7f7f7f;\" x=\"278.795597\" xlink:href=\"#m7953a65f28\" y=\"115.92\"/>\n    </g>\n   </g>\n   <g id=\"PathCollection_9\">\n    <defs>\n     <path d=\"M 0 3 \nC 0.795609 3 1.55874 2.683901 2.12132 2.12132 \nC 2.683901 1.55874 3 0.795609 3 0 \nC 3 -0.795609 2.683901 -1.55874 2.12132 -2.12132 \nC 1.55874 -2.683901 0.795609 -3 0 -3 \nC -0.795609 -3 -1.55874 -2.683901 -2.12132 -2.12132 \nC -2.683901 -1.55874 -3 -0.795609 -3 0 \nC -3 0.795609 -2.683901 1.55874 -2.12132 2.12132 \nC -1.55874 2.683901 -0.795609 3 0 3 \nz\n\" id=\"md655b242e7\" style=\"stroke:#bcbd22;\"/>\n    </defs>\n    <g clip-path=\"url(#p66cc3129af)\">\n     <use style=\"fill:#bcbd22;stroke:#bcbd22;\" x=\"126.613778\" xlink:href=\"#md655b242e7\" y=\"148.865455\"/>\n    </g>\n   </g>\n   <g id=\"PathCollection_10\">\n    <defs>\n     <path d=\"M 0 3 \nC 0.795609 3 1.55874 2.683901 2.12132 2.12132 \nC 2.683901 1.55874 3 0.795609 3 0 \nC 3 -0.795609 2.683901 -1.55874 2.12132 -2.12132 \nC 1.55874 -2.683901 0.795609 -3 0 -3 \nC -0.795609 -3 -1.55874 -2.683901 -2.12132 -2.12132 \nC -2.683901 -1.55874 -3 -0.795609 -3 0 \nC -3 0.795609 -2.683901 1.55874 -2.12132 2.12132 \nC -1.55874 2.683901 -0.795609 3 0 3 \nz\n\" id=\"m9d3ccbe567\" style=\"stroke:#17becf;\"/>\n    </defs>\n    <g clip-path=\"url(#p66cc3129af)\">\n     <use style=\"fill:#17becf;stroke:#17becf;\" x=\"50.522869\" xlink:href=\"#m9d3ccbe567\" y=\"50.029091\"/>\n    </g>\n   </g>\n   <g id=\"PathCollection_11\">\n    <g clip-path=\"url(#p66cc3129af)\">\n     <use style=\"fill:#1f77b4;stroke:#1f77b4;\" x=\"228.068324\" xlink:href=\"#m2bd63d8493\" y=\"148.865455\"/>\n    </g>\n   </g>\n   <g id=\"PathCollection_12\">\n    <g clip-path=\"url(#p66cc3129af)\">\n     <use style=\"fill:#ff7f0e;stroke:#ff7f0e;\" x=\"101.250142\" xlink:href=\"#mf9b89584ef\" y=\"115.92\"/>\n    </g>\n   </g>\n   <g id=\"PathCollection_13\">\n    <g clip-path=\"url(#p66cc3129af)\">\n     <use style=\"fill:#2ca02c;stroke:#2ca02c;\" x=\"304.159233\" xlink:href=\"#mc57c3a2a5c\" y=\"50.029091\"/>\n    </g>\n   </g>\n   <g id=\"PathCollection_14\">\n    <g clip-path=\"url(#p66cc3129af)\">\n     <use style=\"fill:#d62728;stroke:#d62728;\" x=\"202.704688\" xlink:href=\"#mb5817c2508\" y=\"115.92\"/>\n    </g>\n   </g>\n   <g id=\"PathCollection_15\">\n    <g clip-path=\"url(#p66cc3129af)\">\n     <use style=\"fill:#9467bd;stroke:#9467bd;\" x=\"101.250142\" xlink:href=\"#mb74effecec\" y=\"50.029091\"/>\n    </g>\n   </g>\n   <g id=\"PathCollection_16\">\n    <g clip-path=\"url(#p66cc3129af)\">\n     <use style=\"fill:#8c564b;stroke:#8c564b;\" x=\"354.886506\" xlink:href=\"#m7fbe761db6\" y=\"82.974545\"/>\n    </g>\n   </g>\n   <g id=\"PathCollection_17\">\n    <g clip-path=\"url(#p66cc3129af)\">\n     <use style=\"fill:#e377c2;stroke:#e377c2;\" x=\"177.341051\" xlink:href=\"#m1703458d37\" y=\"115.92\"/>\n    </g>\n   </g>\n   <g id=\"PathCollection_18\">\n    <g clip-path=\"url(#p66cc3129af)\">\n     <use style=\"fill:#7f7f7f;stroke:#7f7f7f;\" x=\"304.159233\" xlink:href=\"#m7953a65f28\" y=\"181.810909\"/>\n    </g>\n   </g>\n   <g id=\"PathCollection_19\">\n    <g clip-path=\"url(#p66cc3129af)\">\n     <use style=\"fill:#bcbd22;stroke:#bcbd22;\" x=\"278.795597\" xlink:href=\"#md655b242e7\" y=\"17.083636\"/>\n    </g>\n   </g>\n   <g id=\"PathCollection_20\">\n    <g clip-path=\"url(#p66cc3129af)\">\n     <use style=\"fill:#17becf;stroke:#17becf;\" x=\"151.977415\" xlink:href=\"#m9d3ccbe567\" y=\"115.92\"/>\n    </g>\n   </g>\n   <g id=\"PathCollection_21\">\n    <g clip-path=\"url(#p66cc3129af)\">\n     <use style=\"fill:#1f77b4;stroke:#1f77b4;\" x=\"278.795597\" xlink:href=\"#m2bd63d8493\" y=\"82.974545\"/>\n    </g>\n   </g>\n   <g id=\"PathCollection_22\">\n    <g clip-path=\"url(#p66cc3129af)\">\n     <use style=\"fill:#ff7f0e;stroke:#ff7f0e;\" x=\"278.795597\" xlink:href=\"#mf9b89584ef\" y=\"214.756364\"/>\n    </g>\n   </g>\n   <g id=\"PathCollection_23\">\n    <g clip-path=\"url(#p66cc3129af)\">\n     <use style=\"fill:#2ca02c;stroke:#2ca02c;\" x=\"177.341051\" xlink:href=\"#mc57c3a2a5c\" y=\"82.974545\"/>\n    </g>\n   </g>\n   <g id=\"PathCollection_24\">\n    <g clip-path=\"url(#p66cc3129af)\">\n     <use style=\"fill:#d62728;stroke:#d62728;\" x=\"151.977415\" xlink:href=\"#mb5817c2508\" y=\"214.756364\"/>\n    </g>\n   </g>\n   <g id=\"PathCollection_25\">\n    <g clip-path=\"url(#p66cc3129af)\">\n     <use style=\"fill:#9467bd;stroke:#9467bd;\" x=\"329.522869\" xlink:href=\"#mb74effecec\" y=\"214.756364\"/>\n    </g>\n   </g>\n   <g id=\"PathCollection_26\">\n    <g clip-path=\"url(#p66cc3129af)\">\n     <use style=\"fill:#8c564b;stroke:#8c564b;\" x=\"228.068324\" xlink:href=\"#m7fbe761db6\" y=\"115.92\"/>\n    </g>\n   </g>\n   <g id=\"PathCollection_27\">\n    <g clip-path=\"url(#p66cc3129af)\">\n     <use style=\"fill:#e377c2;stroke:#e377c2;\" x=\"304.159233\" xlink:href=\"#m1703458d37\" y=\"214.756364\"/>\n    </g>\n   </g>\n   <g id=\"PathCollection_28\">\n    <g clip-path=\"url(#p66cc3129af)\">\n     <use style=\"fill:#7f7f7f;stroke:#7f7f7f;\" x=\"101.250142\" xlink:href=\"#m7953a65f28\" y=\"148.865455\"/>\n    </g>\n   </g>\n   <g id=\"PathCollection_29\">\n    <g clip-path=\"url(#p66cc3129af)\">\n     <use style=\"fill:#bcbd22;stroke:#bcbd22;\" x=\"278.795597\" xlink:href=\"#md655b242e7\" y=\"115.92\"/>\n    </g>\n   </g>\n   <g id=\"PathCollection_30\">\n    <g clip-path=\"url(#p66cc3129af)\">\n     <use style=\"fill:#17becf;stroke:#17becf;\" x=\"101.250142\" xlink:href=\"#m9d3ccbe567\" y=\"82.974545\"/>\n    </g>\n   </g>\n   <g id=\"PathCollection_31\">\n    <g clip-path=\"url(#p66cc3129af)\">\n     <use style=\"fill:#1f77b4;stroke:#1f77b4;\" x=\"202.704688\" xlink:href=\"#m2bd63d8493\" y=\"214.756364\"/>\n    </g>\n   </g>\n   <g id=\"PathCollection_32\">\n    <g clip-path=\"url(#p66cc3129af)\">\n     <use style=\"fill:#ff7f0e;stroke:#ff7f0e;\" x=\"228.068324\" xlink:href=\"#mf9b89584ef\" y=\"115.92\"/>\n    </g>\n   </g>\n   <g id=\"PathCollection_33\">\n    <g clip-path=\"url(#p66cc3129af)\">\n     <use style=\"fill:#2ca02c;stroke:#2ca02c;\" x=\"329.522869\" xlink:href=\"#mc57c3a2a5c\" y=\"181.810909\"/>\n    </g>\n   </g>\n   <g id=\"PathCollection_34\">\n    <g clip-path=\"url(#p66cc3129af)\">\n     <use style=\"fill:#d62728;stroke:#d62728;\" x=\"101.250142\" xlink:href=\"#mb5817c2508\" y=\"115.92\"/>\n    </g>\n   </g>\n   <g id=\"PathCollection_35\">\n    <g clip-path=\"url(#p66cc3129af)\">\n     <use style=\"fill:#9467bd;stroke:#9467bd;\" x=\"202.704688\" xlink:href=\"#mb74effecec\" y=\"82.974545\"/>\n    </g>\n   </g>\n   <g id=\"PathCollection_36\">\n    <g clip-path=\"url(#p66cc3129af)\">\n     <use style=\"fill:#8c564b;stroke:#8c564b;\" x=\"329.522869\" xlink:href=\"#m7fbe761db6\" y=\"148.865455\"/>\n    </g>\n   </g>\n   <g id=\"PathCollection_37\">\n    <g clip-path=\"url(#p66cc3129af)\">\n     <use style=\"fill:#e377c2;stroke:#e377c2;\" x=\"101.250142\" xlink:href=\"#m1703458d37\" y=\"181.810909\"/>\n    </g>\n   </g>\n   <g id=\"PathCollection_38\">\n    <g clip-path=\"url(#p66cc3129af)\">\n     <use style=\"fill:#7f7f7f;stroke:#7f7f7f;\" x=\"202.704688\" xlink:href=\"#m7953a65f28\" y=\"115.92\"/>\n    </g>\n   </g>\n   <g id=\"PathCollection_39\">\n    <g clip-path=\"url(#p66cc3129af)\">\n     <use style=\"fill:#bcbd22;stroke:#bcbd22;\" x=\"75.886506\" xlink:href=\"#md655b242e7\" y=\"148.865455\"/>\n    </g>\n   </g>\n   <g id=\"PathCollection_40\">\n    <g clip-path=\"url(#p66cc3129af)\">\n     <use style=\"fill:#17becf;stroke:#17becf;\" x=\"329.522869\" xlink:href=\"#m9d3ccbe567\" y=\"115.92\"/>\n    </g>\n   </g>\n   <g id=\"PathCollection_41\">\n    <g clip-path=\"url(#p66cc3129af)\">\n     <use style=\"fill:#1f77b4;stroke:#1f77b4;\" x=\"101.250142\" xlink:href=\"#m2bd63d8493\" y=\"148.865455\"/>\n    </g>\n   </g>\n   <g id=\"PathCollection_42\">\n    <g clip-path=\"url(#p66cc3129af)\">\n     <use style=\"fill:#ff7f0e;stroke:#ff7f0e;\" x=\"228.068324\" xlink:href=\"#mf9b89584ef\" y=\"181.810909\"/>\n    </g>\n   </g>\n   <g id=\"PathCollection_43\">\n    <g clip-path=\"url(#p66cc3129af)\">\n     <use style=\"fill:#2ca02c;stroke:#2ca02c;\" x=\"253.43196\" xlink:href=\"#mc57c3a2a5c\" y=\"50.029091\"/>\n    </g>\n   </g>\n   <g id=\"PathCollection_44\">\n    <g clip-path=\"url(#p66cc3129af)\">\n     <use style=\"fill:#d62728;stroke:#d62728;\" x=\"202.704688\" xlink:href=\"#mb5817c2508\" y=\"148.865455\"/>\n    </g>\n   </g>\n   <g id=\"PathCollection_45\">\n    <g clip-path=\"url(#p66cc3129af)\">\n     <use style=\"fill:#9467bd;stroke:#9467bd;\" x=\"50.522869\" xlink:href=\"#mb74effecec\" y=\"82.974545\"/>\n    </g>\n   </g>\n   <g id=\"PathCollection_46\">\n    <g clip-path=\"url(#p66cc3129af)\">\n     <use style=\"fill:#8c564b;stroke:#8c564b;\" x=\"278.795597\" xlink:href=\"#m7fbe761db6\" y=\"50.029091\"/>\n    </g>\n   </g>\n   <g id=\"PathCollection_47\">\n    <g clip-path=\"url(#p66cc3129af)\">\n     <use style=\"fill:#e377c2;stroke:#e377c2;\" x=\"177.341051\" xlink:href=\"#m1703458d37\" y=\"115.92\"/>\n    </g>\n   </g>\n   <g id=\"PathCollection_48\">\n    <g clip-path=\"url(#p66cc3129af)\">\n     <use style=\"fill:#7f7f7f;stroke:#7f7f7f;\" x=\"354.886506\" xlink:href=\"#m7953a65f28\" y=\"181.810909\"/>\n    </g>\n   </g>\n   <g id=\"PathCollection_49\">\n    <g clip-path=\"url(#p66cc3129af)\">\n     <use style=\"fill:#bcbd22;stroke:#bcbd22;\" x=\"75.886506\" xlink:href=\"#md655b242e7\" y=\"181.810909\"/>\n    </g>\n   </g>\n   <g id=\"PathCollection_50\">\n    <g clip-path=\"url(#p66cc3129af)\">\n     <use style=\"fill:#17becf;stroke:#17becf;\" x=\"253.43196\" xlink:href=\"#m9d3ccbe567\" y=\"17.083636\"/>\n    </g>\n   </g>\n   <g id=\"PathCollection_51\">\n    <g clip-path=\"url(#p66cc3129af)\">\n     <use style=\"fill:#1f77b4;stroke:#1f77b4;\" x=\"228.068324\" xlink:href=\"#m2bd63d8493\" y=\"181.810909\"/>\n    </g>\n   </g>\n   <g id=\"PathCollection_52\">\n    <g clip-path=\"url(#p66cc3129af)\">\n     <use style=\"fill:#ff7f0e;stroke:#ff7f0e;\" x=\"75.886506\" xlink:href=\"#mf9b89584ef\" y=\"50.029091\"/>\n    </g>\n   </g>\n   <g id=\"PathCollection_53\">\n    <g clip-path=\"url(#p66cc3129af)\">\n     <use style=\"fill:#2ca02c;stroke:#2ca02c;\" x=\"228.068324\" xlink:href=\"#mc57c3a2a5c\" y=\"17.083636\"/>\n    </g>\n   </g>\n   <g id=\"PathCollection_54\">\n    <g clip-path=\"url(#p66cc3129af)\">\n     <use style=\"fill:#d62728;stroke:#d62728;\" x=\"329.522869\" xlink:href=\"#mb5817c2508\" y=\"82.974545\"/>\n    </g>\n   </g>\n   <g id=\"PathCollection_55\">\n    <g clip-path=\"url(#p66cc3129af)\">\n     <use style=\"fill:#9467bd;stroke:#9467bd;\" x=\"228.068324\" xlink:href=\"#mb74effecec\" y=\"82.974545\"/>\n    </g>\n   </g>\n   <g id=\"PathCollection_56\">\n    <g clip-path=\"url(#p66cc3129af)\">\n     <use style=\"fill:#8c564b;stroke:#8c564b;\" x=\"126.613778\" xlink:href=\"#m7fbe761db6\" y=\"181.810909\"/>\n    </g>\n   </g>\n   <g id=\"PathCollection_57\">\n    <g clip-path=\"url(#p66cc3129af)\">\n     <use style=\"fill:#e377c2;stroke:#e377c2;\" x=\"126.613778\" xlink:href=\"#m1703458d37\" y=\"17.083636\"/>\n    </g>\n   </g>\n   <g id=\"PathCollection_58\">\n    <g clip-path=\"url(#p66cc3129af)\">\n     <use style=\"fill:#7f7f7f;stroke:#7f7f7f;\" x=\"354.886506\" xlink:href=\"#m7953a65f28\" y=\"50.029091\"/>\n    </g>\n   </g>\n   <g id=\"PathCollection_59\">\n    <g clip-path=\"url(#p66cc3129af)\">\n     <use style=\"fill:#bcbd22;stroke:#bcbd22;\" x=\"202.704688\" xlink:href=\"#md655b242e7\" y=\"148.865455\"/>\n    </g>\n   </g>\n   <g id=\"PathCollection_60\">\n    <g clip-path=\"url(#p66cc3129af)\">\n     <use style=\"fill:#17becf;stroke:#17becf;\" x=\"354.886506\" xlink:href=\"#m9d3ccbe567\" y=\"148.865455\"/>\n    </g>\n   </g>\n   <g id=\"PathCollection_61\">\n    <g clip-path=\"url(#p66cc3129af)\">\n     <use style=\"fill:#1f77b4;stroke:#1f77b4;\" x=\"50.522869\" xlink:href=\"#m2bd63d8493\" y=\"181.810909\"/>\n    </g>\n   </g>\n   <g id=\"PathCollection_62\">\n    <g clip-path=\"url(#p66cc3129af)\">\n     <use style=\"fill:#ff7f0e;stroke:#ff7f0e;\" x=\"151.977415\" xlink:href=\"#mf9b89584ef\" y=\"17.083636\"/>\n    </g>\n   </g>\n   <g id=\"PathCollection_63\">\n    <g clip-path=\"url(#p66cc3129af)\">\n     <use style=\"fill:#2ca02c;stroke:#2ca02c;\" x=\"253.43196\" xlink:href=\"#mc57c3a2a5c\" y=\"17.083636\"/>\n    </g>\n   </g>\n   <g id=\"PathCollection_64\">\n    <g clip-path=\"url(#p66cc3129af)\">\n     <use style=\"fill:#d62728;stroke:#d62728;\" x=\"75.886506\" xlink:href=\"#mb5817c2508\" y=\"82.974545\"/>\n    </g>\n   </g>\n   <g id=\"PathCollection_65\">\n    <g clip-path=\"url(#p66cc3129af)\">\n     <use style=\"fill:#9467bd;stroke:#9467bd;\" x=\"304.159233\" xlink:href=\"#mb74effecec\" y=\"148.865455\"/>\n    </g>\n   </g>\n   <g id=\"PathCollection_66\">\n    <g clip-path=\"url(#p66cc3129af)\">\n     <use style=\"fill:#8c564b;stroke:#8c564b;\" x=\"202.704688\" xlink:href=\"#m7fbe761db6\" y=\"214.756364\"/>\n    </g>\n   </g>\n   <g id=\"PathCollection_67\">\n    <g clip-path=\"url(#p66cc3129af)\">\n     <use style=\"fill:#e377c2;stroke:#e377c2;\" x=\"354.886506\" xlink:href=\"#m1703458d37\" y=\"115.92\"/>\n    </g>\n   </g>\n   <g id=\"PathCollection_68\">\n    <g clip-path=\"url(#p66cc3129af)\">\n     <use style=\"fill:#7f7f7f;stroke:#7f7f7f;\" x=\"253.43196\" xlink:href=\"#m7953a65f28\" y=\"181.810909\"/>\n    </g>\n   </g>\n   <g id=\"PathCollection_69\">\n    <g clip-path=\"url(#p66cc3129af)\">\n     <use style=\"fill:#bcbd22;stroke:#bcbd22;\" x=\"126.613778\" xlink:href=\"#md655b242e7\" y=\"115.92\"/>\n    </g>\n   </g>\n   <g id=\"PathCollection_70\">\n    <g clip-path=\"url(#p66cc3129af)\">\n     <use style=\"fill:#17becf;stroke:#17becf;\" x=\"228.068324\" xlink:href=\"#m9d3ccbe567\" y=\"50.029091\"/>\n    </g>\n   </g>\n   <g id=\"PathCollection_71\">\n    <g clip-path=\"url(#p66cc3129af)\">\n     <use style=\"fill:#1f77b4;stroke:#1f77b4;\" x=\"253.43196\" xlink:href=\"#m2bd63d8493\" y=\"181.810909\"/>\n    </g>\n   </g>\n   <g id=\"PathCollection_72\">\n    <g clip-path=\"url(#p66cc3129af)\">\n     <use style=\"fill:#ff7f0e;stroke:#ff7f0e;\" x=\"101.250142\" xlink:href=\"#mf9b89584ef\" y=\"181.810909\"/>\n    </g>\n   </g>\n   <g id=\"PathCollection_73\">\n    <g clip-path=\"url(#p66cc3129af)\">\n     <use style=\"fill:#2ca02c;stroke:#2ca02c;\" x=\"278.795597\" xlink:href=\"#mc57c3a2a5c\" y=\"50.029091\"/>\n    </g>\n   </g>\n   <g id=\"PathCollection_74\">\n    <g clip-path=\"url(#p66cc3129af)\">\n     <use style=\"fill:#d62728;stroke:#d62728;\" x=\"126.613778\" xlink:href=\"#mb5817c2508\" y=\"50.029091\"/>\n    </g>\n   </g>\n   <g id=\"PathCollection_75\">\n    <g clip-path=\"url(#p66cc3129af)\">\n     <use style=\"fill:#9467bd;stroke:#9467bd;\" x=\"304.159233\" xlink:href=\"#mb74effecec\" y=\"115.92\"/>\n    </g>\n   </g>\n   <g id=\"PathCollection_76\">\n    <g clip-path=\"url(#p66cc3129af)\">\n     <use style=\"fill:#8c564b;stroke:#8c564b;\" x=\"202.704688\" xlink:href=\"#m7fbe761db6\" y=\"181.810909\"/>\n    </g>\n   </g>\n   <g id=\"PathCollection_77\">\n    <g clip-path=\"url(#p66cc3129af)\">\n     <use style=\"fill:#e377c2;stroke:#e377c2;\" x=\"75.886506\" xlink:href=\"#m1703458d37\" y=\"181.810909\"/>\n    </g>\n   </g>\n   <g id=\"PathCollection_78\">\n    <g clip-path=\"url(#p66cc3129af)\">\n     <use style=\"fill:#7f7f7f;stroke:#7f7f7f;\" x=\"151.977415\" xlink:href=\"#m7953a65f28\" y=\"50.029091\"/>\n    </g>\n   </g>\n   <g id=\"PathCollection_79\">\n    <g clip-path=\"url(#p66cc3129af)\">\n     <use style=\"fill:#bcbd22;stroke:#bcbd22;\" x=\"228.068324\" xlink:href=\"#md655b242e7\" y=\"50.029091\"/>\n    </g>\n   </g>\n   <g id=\"PathCollection_80\">\n    <g clip-path=\"url(#p66cc3129af)\">\n     <use style=\"fill:#17becf;stroke:#17becf;\" x=\"278.795597\" xlink:href=\"#m9d3ccbe567\" y=\"181.810909\"/>\n    </g>\n   </g>\n   <g id=\"PathCollection_81\">\n    <g clip-path=\"url(#p66cc3129af)\">\n     <use style=\"fill:#1f77b4;stroke:#1f77b4;\" x=\"126.613778\" xlink:href=\"#m2bd63d8493\" y=\"115.92\"/>\n    </g>\n   </g>\n   <g id=\"PathCollection_82\">\n    <g clip-path=\"url(#p66cc3129af)\">\n     <use style=\"fill:#ff7f0e;stroke:#ff7f0e;\" x=\"354.886506\" xlink:href=\"#mf9b89584ef\" y=\"50.029091\"/>\n    </g>\n   </g>\n   <g id=\"PathCollection_83\">\n    <g clip-path=\"url(#p66cc3129af)\">\n     <use style=\"fill:#2ca02c;stroke:#2ca02c;\" x=\"304.159233\" xlink:href=\"#mc57c3a2a5c\" y=\"17.083636\"/>\n    </g>\n   </g>\n   <g id=\"PathCollection_84\">\n    <g clip-path=\"url(#p66cc3129af)\">\n     <use style=\"fill:#d62728;stroke:#d62728;\" x=\"126.613778\" xlink:href=\"#mb5817c2508\" y=\"82.974545\"/>\n    </g>\n   </g>\n   <g id=\"PathCollection_85\">\n    <g clip-path=\"url(#p66cc3129af)\">\n     <use style=\"fill:#9467bd;stroke:#9467bd;\" x=\"253.43196\" xlink:href=\"#mb74effecec\" y=\"148.865455\"/>\n    </g>\n   </g>\n   <g id=\"PathCollection_86\">\n    <g clip-path=\"url(#p66cc3129af)\">\n     <use style=\"fill:#8c564b;stroke:#8c564b;\" x=\"101.250142\" xlink:href=\"#m7fbe761db6\" y=\"214.756364\"/>\n    </g>\n   </g>\n   <g id=\"PathCollection_87\">\n    <g clip-path=\"url(#p66cc3129af)\">\n     <use style=\"fill:#e377c2;stroke:#e377c2;\" x=\"126.613778\" xlink:href=\"#m1703458d37\" y=\"148.865455\"/>\n    </g>\n   </g>\n   <g id=\"PathCollection_88\">\n    <g clip-path=\"url(#p66cc3129af)\">\n     <use style=\"fill:#7f7f7f;stroke:#7f7f7f;\" x=\"278.795597\" xlink:href=\"#m7953a65f28\" y=\"17.083636\"/>\n    </g>\n   </g>\n   <g id=\"PathCollection_89\">\n    <g clip-path=\"url(#p66cc3129af)\">\n     <use style=\"fill:#bcbd22;stroke:#bcbd22;\" x=\"278.795597\" xlink:href=\"#md655b242e7\" y=\"181.810909\"/>\n    </g>\n   </g>\n   <g id=\"PathCollection_90\">\n    <g clip-path=\"url(#p66cc3129af)\">\n     <use style=\"fill:#17becf;stroke:#17becf;\" x=\"126.613778\" xlink:href=\"#m9d3ccbe567\" y=\"17.083636\"/>\n    </g>\n   </g>\n   <g id=\"PathCollection_91\">\n    <g clip-path=\"url(#p66cc3129af)\">\n     <use style=\"fill:#1f77b4;stroke:#1f77b4;\" x=\"304.159233\" xlink:href=\"#m2bd63d8493\" y=\"115.92\"/>\n    </g>\n   </g>\n   <g id=\"PathCollection_92\">\n    <g clip-path=\"url(#p66cc3129af)\">\n     <use style=\"fill:#ff7f0e;stroke:#ff7f0e;\" x=\"75.886506\" xlink:href=\"#mf9b89584ef\" y=\"148.865455\"/>\n    </g>\n   </g>\n   <g id=\"PathCollection_93\">\n    <g clip-path=\"url(#p66cc3129af)\">\n     <use style=\"fill:#2ca02c;stroke:#2ca02c;\" x=\"228.068324\" xlink:href=\"#mc57c3a2a5c\" y=\"214.756364\"/>\n    </g>\n   </g>\n   <g id=\"PathCollection_94\">\n    <g clip-path=\"url(#p66cc3129af)\">\n     <use style=\"fill:#d62728;stroke:#d62728;\" x=\"177.341051\" xlink:href=\"#mb5817c2508\" y=\"50.029091\"/>\n    </g>\n   </g>\n   <g id=\"PathCollection_95\">\n    <g clip-path=\"url(#p66cc3129af)\">\n     <use style=\"fill:#9467bd;stroke:#9467bd;\" x=\"151.977415\" xlink:href=\"#mb74effecec\" y=\"82.974545\"/>\n    </g>\n   </g>\n   <g id=\"PathCollection_96\">\n    <g clip-path=\"url(#p66cc3129af)\">\n     <use style=\"fill:#8c564b;stroke:#8c564b;\" x=\"126.613778\" xlink:href=\"#m7fbe761db6\" y=\"214.756364\"/>\n    </g>\n   </g>\n   <g id=\"PathCollection_97\">\n    <g clip-path=\"url(#p66cc3129af)\">\n     <use style=\"fill:#e377c2;stroke:#e377c2;\" x=\"278.795597\" xlink:href=\"#m1703458d37\" y=\"148.865455\"/>\n    </g>\n   </g>\n   <g id=\"PathCollection_98\">\n    <g clip-path=\"url(#p66cc3129af)\">\n     <use style=\"fill:#7f7f7f;stroke:#7f7f7f;\" x=\"329.522869\" xlink:href=\"#m7953a65f28\" y=\"17.083636\"/>\n    </g>\n   </g>\n   <g id=\"PathCollection_99\">\n    <g clip-path=\"url(#p66cc3129af)\">\n     <use style=\"fill:#bcbd22;stroke:#bcbd22;\" x=\"177.341051\" xlink:href=\"#md655b242e7\" y=\"181.810909\"/>\n    </g>\n   </g>\n   <g id=\"PathCollection_100\">\n    <g clip-path=\"url(#p66cc3129af)\">\n     <use style=\"fill:#17becf;stroke:#17becf;\" x=\"75.886506\" xlink:href=\"#m9d3ccbe567\" y=\"82.974545\"/>\n    </g>\n   </g>\n   <g id=\"PathCollection_101\">\n    <g clip-path=\"url(#p66cc3129af)\">\n     <use style=\"fill:#1f77b4;stroke:#1f77b4;\" x=\"329.522869\" xlink:href=\"#m2bd63d8493\" y=\"115.92\"/>\n    </g>\n   </g>\n   <g id=\"PathCollection_102\">\n    <g clip-path=\"url(#p66cc3129af)\">\n     <use style=\"fill:#ff7f0e;stroke:#ff7f0e;\" x=\"202.704688\" xlink:href=\"#mf9b89584ef\" y=\"50.029091\"/>\n    </g>\n   </g>\n   <g id=\"PathCollection_103\">\n    <g clip-path=\"url(#p66cc3129af)\">\n     <use style=\"fill:#2ca02c;stroke:#2ca02c;\" x=\"278.795597\" xlink:href=\"#mc57c3a2a5c\" y=\"82.974545\"/>\n    </g>\n   </g>\n   <g id=\"PathCollection_104\">\n    <g clip-path=\"url(#p66cc3129af)\">\n     <use style=\"fill:#d62728;stroke:#d62728;\" x=\"126.613778\" xlink:href=\"#mb5817c2508\" y=\"214.756364\"/>\n    </g>\n   </g>\n   <g id=\"PathCollection_105\">\n    <g clip-path=\"url(#p66cc3129af)\">\n     <use style=\"fill:#9467bd;stroke:#9467bd;\" x=\"253.43196\" xlink:href=\"#mb74effecec\" y=\"214.756364\"/>\n    </g>\n   </g>\n   <g id=\"PathCollection_106\">\n    <g clip-path=\"url(#p66cc3129af)\">\n     <use style=\"fill:#8c564b;stroke:#8c564b;\" x=\"126.613778\" xlink:href=\"#m7fbe761db6\" y=\"50.029091\"/>\n    </g>\n   </g>\n   <g id=\"PathCollection_107\">\n    <g clip-path=\"url(#p66cc3129af)\">\n     <use style=\"fill:#e377c2;stroke:#e377c2;\" x=\"202.704688\" xlink:href=\"#m1703458d37\" y=\"181.810909\"/>\n    </g>\n   </g>\n   <g id=\"PathCollection_108\">\n    <g clip-path=\"url(#p66cc3129af)\">\n     <use style=\"fill:#7f7f7f;stroke:#7f7f7f;\" x=\"228.068324\" xlink:href=\"#m7953a65f28\" y=\"17.083636\"/>\n    </g>\n   </g>\n   <g id=\"PathCollection_109\">\n    <g clip-path=\"url(#p66cc3129af)\">\n     <use style=\"fill:#bcbd22;stroke:#bcbd22;\" x=\"126.613778\" xlink:href=\"#md655b242e7\" y=\"82.974545\"/>\n    </g>\n   </g>\n   <g id=\"PathCollection_110\">\n    <g clip-path=\"url(#p66cc3129af)\">\n     <use style=\"fill:#17becf;stroke:#17becf;\" x=\"329.522869\" xlink:href=\"#m9d3ccbe567\" y=\"181.810909\"/>\n    </g>\n   </g>\n   <g id=\"PathCollection_111\">\n    <g clip-path=\"url(#p66cc3129af)\">\n     <use style=\"fill:#1f77b4;stroke:#1f77b4;\" x=\"253.43196\" xlink:href=\"#m2bd63d8493\" y=\"82.974545\"/>\n    </g>\n   </g>\n   <g id=\"PathCollection_112\">\n    <g clip-path=\"url(#p66cc3129af)\">\n     <use style=\"fill:#ff7f0e;stroke:#ff7f0e;\" x=\"101.250142\" xlink:href=\"#mf9b89584ef\" y=\"50.029091\"/>\n    </g>\n   </g>\n   <g id=\"PathCollection_113\">\n    <g clip-path=\"url(#p66cc3129af)\">\n     <use style=\"fill:#2ca02c;stroke:#2ca02c;\" x=\"354.886506\" xlink:href=\"#mc57c3a2a5c\" y=\"148.865455\"/>\n    </g>\n   </g>\n   <g id=\"PathCollection_114\">\n    <g clip-path=\"url(#p66cc3129af)\">\n     <use style=\"fill:#d62728;stroke:#d62728;\" x=\"151.977415\" xlink:href=\"#mb5817c2508\" y=\"181.810909\"/>\n    </g>\n   </g>\n   <g id=\"PathCollection_115\">\n    <g clip-path=\"url(#p66cc3129af)\">\n     <use style=\"fill:#9467bd;stroke:#9467bd;\" x=\"304.159233\" xlink:href=\"#mb74effecec\" y=\"17.083636\"/>\n    </g>\n   </g>\n   <g id=\"PathCollection_116\">\n    <g clip-path=\"url(#p66cc3129af)\">\n     <use style=\"fill:#8c564b;stroke:#8c564b;\" x=\"101.250142\" xlink:href=\"#m7fbe761db6\" y=\"82.974545\"/>\n    </g>\n   </g>\n   <g id=\"PathCollection_117\">\n    <g clip-path=\"url(#p66cc3129af)\">\n     <use style=\"fill:#e377c2;stroke:#e377c2;\" x=\"75.886506\" xlink:href=\"#m1703458d37\" y=\"214.756364\"/>\n    </g>\n   </g>\n   <g id=\"PathCollection_118\">\n    <g clip-path=\"url(#p66cc3129af)\">\n     <use style=\"fill:#7f7f7f;stroke:#7f7f7f;\" x=\"304.159233\" xlink:href=\"#m7953a65f28\" y=\"148.865455\"/>\n    </g>\n   </g>\n   <g id=\"PathCollection_119\">\n    <g clip-path=\"url(#p66cc3129af)\">\n     <use style=\"fill:#bcbd22;stroke:#bcbd22;\" x=\"304.159233\" xlink:href=\"#md655b242e7\" y=\"82.974545\"/>\n    </g>\n   </g>\n   <g id=\"PathCollection_120\">\n    <g clip-path=\"url(#p66cc3129af)\">\n     <use style=\"fill:#17becf;stroke:#17becf;\" x=\"101.250142\" xlink:href=\"#m9d3ccbe567\" y=\"214.756364\"/>\n    </g>\n   </g>\n   <g id=\"PathCollection_121\">\n    <g clip-path=\"url(#p66cc3129af)\">\n     <use style=\"fill:#1f77b4;stroke:#1f77b4;\" x=\"151.977415\" xlink:href=\"#m2bd63d8493\" y=\"82.974545\"/>\n    </g>\n   </g>\n   <g id=\"PathCollection_122\">\n    <g clip-path=\"url(#p66cc3129af)\">\n     <use style=\"fill:#ff7f0e;stroke:#ff7f0e;\" x=\"50.522869\" xlink:href=\"#mf9b89584ef\" y=\"17.083636\"/>\n    </g>\n   </g>\n   <g id=\"PathCollection_123\">\n    <g clip-path=\"url(#p66cc3129af)\">\n     <use style=\"fill:#2ca02c;stroke:#2ca02c;\" x=\"177.341051\" xlink:href=\"#mc57c3a2a5c\" y=\"148.865455\"/>\n    </g>\n   </g>\n   <g id=\"PathCollection_124\">\n    <g clip-path=\"url(#p66cc3129af)\">\n     <use style=\"fill:#d62728;stroke:#d62728;\" x=\"75.886506\" xlink:href=\"#mb5817c2508\" y=\"17.083636\"/>\n    </g>\n   </g>\n   <g id=\"PathCollection_125\">\n    <g clip-path=\"url(#p66cc3129af)\">\n     <use style=\"fill:#9467bd;stroke:#9467bd;\" x=\"329.522869\" xlink:href=\"#mb74effecec\" y=\"148.865455\"/>\n    </g>\n   </g>\n   <g id=\"PathCollection_126\">\n    <g clip-path=\"url(#p66cc3129af)\">\n     <use style=\"fill:#8c564b;stroke:#8c564b;\" x=\"75.886506\" xlink:href=\"#m7fbe761db6\" y=\"214.756364\"/>\n    </g>\n   </g>\n   <g id=\"PathCollection_127\">\n    <g clip-path=\"url(#p66cc3129af)\">\n     <use style=\"fill:#e377c2;stroke:#e377c2;\" x=\"177.341051\" xlink:href=\"#m1703458d37\" y=\"50.029091\"/>\n    </g>\n   </g>\n   <g id=\"PathCollection_128\">\n    <g clip-path=\"url(#p66cc3129af)\">\n     <use style=\"fill:#7f7f7f;stroke:#7f7f7f;\" x=\"354.886506\" xlink:href=\"#m7953a65f28\" y=\"115.92\"/>\n    </g>\n   </g>\n   <g id=\"PathCollection_129\">\n    <g clip-path=\"url(#p66cc3129af)\">\n     <use style=\"fill:#bcbd22;stroke:#bcbd22;\" x=\"50.522869\" xlink:href=\"#md655b242e7\" y=\"17.083636\"/>\n    </g>\n   </g>\n   <g id=\"PathCollection_130\">\n    <g clip-path=\"url(#p66cc3129af)\">\n     <use style=\"fill:#17becf;stroke:#17becf;\" x=\"151.977415\" xlink:href=\"#m9d3ccbe567\" y=\"181.810909\"/>\n    </g>\n   </g>\n   <g id=\"PathCollection_131\">\n    <g clip-path=\"url(#p66cc3129af)\">\n     <use style=\"fill:#1f77b4;stroke:#1f77b4;\" x=\"177.341051\" xlink:href=\"#m2bd63d8493\" y=\"82.974545\"/>\n    </g>\n   </g>\n   <g id=\"PathCollection_132\">\n    <g clip-path=\"url(#p66cc3129af)\">\n     <use style=\"fill:#ff7f0e;stroke:#ff7f0e;\" x=\"304.159233\" xlink:href=\"#mf9b89584ef\" y=\"82.974545\"/>\n    </g>\n   </g>\n   <g id=\"PathCollection_133\">\n    <g clip-path=\"url(#p66cc3129af)\">\n     <use style=\"fill:#2ca02c;stroke:#2ca02c;\" x=\"253.43196\" xlink:href=\"#mc57c3a2a5c\" y=\"214.756364\"/>\n    </g>\n   </g>\n   <g id=\"PathCollection_134\">\n    <g clip-path=\"url(#p66cc3129af)\">\n     <use style=\"fill:#d62728;stroke:#d62728;\" x=\"75.886506\" xlink:href=\"#mb5817c2508\" y=\"17.083636\"/>\n    </g>\n   </g>\n   <g id=\"PathCollection_135\">\n    <g clip-path=\"url(#p66cc3129af)\">\n     <use style=\"fill:#9467bd;stroke:#9467bd;\" x=\"151.977415\" xlink:href=\"#mb74effecec\" y=\"148.865455\"/>\n    </g>\n   </g>\n   <g id=\"PathCollection_136\">\n    <g clip-path=\"url(#p66cc3129af)\">\n     <use style=\"fill:#8c564b;stroke:#8c564b;\" x=\"278.795597\" xlink:href=\"#m7fbe761db6\" y=\"148.865455\"/>\n    </g>\n   </g>\n   <g id=\"PathCollection_137\">\n    <g clip-path=\"url(#p66cc3129af)\">\n     <use style=\"fill:#e377c2;stroke:#e377c2;\" x=\"50.522869\" xlink:href=\"#m1703458d37\" y=\"82.974545\"/>\n    </g>\n   </g>\n   <g id=\"PathCollection_138\">\n    <g clip-path=\"url(#p66cc3129af)\">\n     <use style=\"fill:#7f7f7f;stroke:#7f7f7f;\" x=\"151.977415\" xlink:href=\"#m7953a65f28\" y=\"17.083636\"/>\n    </g>\n   </g>\n   <g id=\"PathCollection_139\">\n    <g clip-path=\"url(#p66cc3129af)\">\n     <use style=\"fill:#bcbd22;stroke:#bcbd22;\" x=\"177.341051\" xlink:href=\"#md655b242e7\" y=\"148.865455\"/>\n    </g>\n   </g>\n   <g id=\"PathCollection_140\">\n    <g clip-path=\"url(#p66cc3129af)\">\n     <use style=\"fill:#17becf;stroke:#17becf;\" x=\"202.704688\" xlink:href=\"#m9d3ccbe567\" y=\"17.083636\"/>\n    </g>\n   </g>\n   <g id=\"PathCollection_141\">\n    <g clip-path=\"url(#p66cc3129af)\">\n     <use style=\"fill:#1f77b4;stroke:#1f77b4;\" x=\"50.522869\" xlink:href=\"#m2bd63d8493\" y=\"148.865455\"/>\n    </g>\n   </g>\n   <g id=\"PathCollection_142\">\n    <g clip-path=\"url(#p66cc3129af)\">\n     <use style=\"fill:#ff7f0e;stroke:#ff7f0e;\" x=\"304.159233\" xlink:href=\"#mf9b89584ef\" y=\"214.756364\"/>\n    </g>\n   </g>\n   <g id=\"PathCollection_143\">\n    <g clip-path=\"url(#p66cc3129af)\">\n     <use style=\"fill:#2ca02c;stroke:#2ca02c;\" x=\"177.341051\" xlink:href=\"#mc57c3a2a5c\" y=\"181.810909\"/>\n    </g>\n   </g>\n   <g id=\"PathCollection_144\">\n    <g clip-path=\"url(#p66cc3129af)\">\n     <use style=\"fill:#d62728;stroke:#d62728;\" x=\"151.977415\" xlink:href=\"#mb5817c2508\" y=\"50.029091\"/>\n    </g>\n   </g>\n   <g id=\"PathCollection_145\">\n    <g clip-path=\"url(#p66cc3129af)\">\n     <use style=\"fill:#9467bd;stroke:#9467bd;\" x=\"304.159233\" xlink:href=\"#mb74effecec\" y=\"181.810909\"/>\n    </g>\n   </g>\n   <g id=\"PathCollection_146\">\n    <g clip-path=\"url(#p66cc3129af)\">\n     <use style=\"fill:#8c564b;stroke:#8c564b;\" x=\"50.522869\" xlink:href=\"#m7fbe761db6\" y=\"115.92\"/>\n    </g>\n   </g>\n   <g id=\"PathCollection_147\">\n    <g clip-path=\"url(#p66cc3129af)\">\n     <use style=\"fill:#e377c2;stroke:#e377c2;\" x=\"151.977415\" xlink:href=\"#m1703458d37\" y=\"148.865455\"/>\n    </g>\n   </g>\n   <g id=\"PathCollection_148\">\n    <g clip-path=\"url(#p66cc3129af)\">\n     <use style=\"fill:#7f7f7f;stroke:#7f7f7f;\" x=\"304.159233\" xlink:href=\"#m7953a65f28\" y=\"50.029091\"/>\n    </g>\n   </g>\n   <g id=\"PathCollection_149\">\n    <g clip-path=\"url(#p66cc3129af)\">\n     <use style=\"fill:#bcbd22;stroke:#bcbd22;\" x=\"50.522869\" xlink:href=\"#md655b242e7\" y=\"214.756364\"/>\n    </g>\n   </g>\n   <g id=\"PathCollection_150\">\n    <g clip-path=\"url(#p66cc3129af)\">\n     <use style=\"fill:#17becf;stroke:#17becf;\" x=\"177.341051\" xlink:href=\"#m9d3ccbe567\" y=\"17.083636\"/>\n    </g>\n   </g>\n   <g id=\"PathCollection_151\">\n    <g clip-path=\"url(#p66cc3129af)\">\n     <use style=\"fill:#1f77b4;stroke:#1f77b4;\" x=\"228.068324\" xlink:href=\"#m2bd63d8493\" y=\"214.756364\"/>\n    </g>\n   </g>\n   <g id=\"PathCollection_152\">\n    <g clip-path=\"url(#p66cc3129af)\">\n     <use style=\"fill:#ff7f0e;stroke:#ff7f0e;\" x=\"354.886506\" xlink:href=\"#mf9b89584ef\" y=\"17.083636\"/>\n    </g>\n   </g>\n   <g id=\"PathCollection_153\">\n    <g clip-path=\"url(#p66cc3129af)\">\n     <use style=\"fill:#2ca02c;stroke:#2ca02c;\" x=\"50.522869\" xlink:href=\"#mc57c3a2a5c\" y=\"115.92\"/>\n    </g>\n   </g>\n   <g id=\"PathCollection_154\">\n    <g clip-path=\"url(#p66cc3129af)\">\n     <use style=\"fill:#d62728;stroke:#d62728;\" x=\"228.068324\" xlink:href=\"#mb5817c2508\" y=\"82.974545\"/>\n    </g>\n   </g>\n   <g id=\"PathCollection_155\">\n    <g clip-path=\"url(#p66cc3129af)\">\n     <use style=\"fill:#9467bd;stroke:#9467bd;\" x=\"253.43196\" xlink:href=\"#mb74effecec\" y=\"82.974545\"/>\n    </g>\n   </g>\n   <g id=\"PathCollection_156\">\n    <g clip-path=\"url(#p66cc3129af)\">\n     <use style=\"fill:#8c564b;stroke:#8c564b;\" x=\"75.886506\" xlink:href=\"#m7fbe761db6\" y=\"115.92\"/>\n    </g>\n   </g>\n   <g id=\"PathCollection_157\">\n    <g clip-path=\"url(#p66cc3129af)\">\n     <use style=\"fill:#e377c2;stroke:#e377c2;\" x=\"151.977415\" xlink:href=\"#m1703458d37\" y=\"214.756364\"/>\n    </g>\n   </g>\n   <g id=\"PathCollection_158\">\n    <g clip-path=\"url(#p66cc3129af)\">\n     <use style=\"fill:#7f7f7f;stroke:#7f7f7f;\" x=\"354.886506\" xlink:href=\"#m7953a65f28\" y=\"17.083636\"/>\n    </g>\n   </g>\n   <g id=\"PathCollection_159\">\n    <g clip-path=\"url(#p66cc3129af)\">\n     <use style=\"fill:#bcbd22;stroke:#bcbd22;\" x=\"202.704688\" xlink:href=\"#md655b242e7\" y=\"82.974545\"/>\n    </g>\n   </g>\n   <g id=\"PathCollection_160\">\n    <g clip-path=\"url(#p66cc3129af)\">\n     <use style=\"fill:#17becf;stroke:#17becf;\" x=\"329.522869\" xlink:href=\"#m9d3ccbe567\" y=\"50.029091\"/>\n    </g>\n   </g>\n   <g id=\"PathCollection_161\">\n    <g clip-path=\"url(#p66cc3129af)\">\n     <use style=\"fill:#1f77b4;stroke:#1f77b4;\" x=\"278.795597\" xlink:href=\"#m2bd63d8493\" y=\"214.756364\"/>\n    </g>\n   </g>\n   <g id=\"PathCollection_162\">\n    <g clip-path=\"url(#p66cc3129af)\">\n     <use style=\"fill:#ff7f0e;stroke:#ff7f0e;\" x=\"50.522869\" xlink:href=\"#mf9b89584ef\" y=\"148.865455\"/>\n    </g>\n   </g>\n   <g id=\"PathCollection_163\">\n    <g clip-path=\"url(#p66cc3129af)\">\n     <use style=\"fill:#2ca02c;stroke:#2ca02c;\" x=\"253.43196\" xlink:href=\"#mc57c3a2a5c\" y=\"115.92\"/>\n    </g>\n   </g>\n   <g id=\"PathCollection_164\">\n    <g clip-path=\"url(#p66cc3129af)\">\n     <use style=\"fill:#d62728;stroke:#d62728;\" x=\"329.522869\" xlink:href=\"#mb5817c2508\" y=\"214.756364\"/>\n    </g>\n   </g>\n   <g id=\"PathCollection_165\">\n    <g clip-path=\"url(#p66cc3129af)\">\n     <use style=\"fill:#9467bd;stroke:#9467bd;\" x=\"177.341051\" xlink:href=\"#mb74effecec\" y=\"214.756364\"/>\n    </g>\n   </g>\n   <g id=\"PathCollection_166\">\n    <g clip-path=\"url(#p66cc3129af)\">\n     <use style=\"fill:#8c564b;stroke:#8c564b;\" x=\"329.522869\" xlink:href=\"#m7fbe761db6\" y=\"17.083636\"/>\n    </g>\n   </g>\n   <g id=\"PathCollection_167\">\n    <g clip-path=\"url(#p66cc3129af)\">\n     <use style=\"fill:#e377c2;stroke:#e377c2;\" x=\"253.43196\" xlink:href=\"#m1703458d37\" y=\"115.92\"/>\n    </g>\n   </g>\n   <g id=\"PathCollection_168\">\n    <g clip-path=\"url(#p66cc3129af)\">\n     <use style=\"fill:#7f7f7f;stroke:#7f7f7f;\" x=\"75.886506\" xlink:href=\"#m7953a65f28\" y=\"115.92\"/>\n    </g>\n   </g>\n   <g id=\"PathCollection_169\">\n    <g clip-path=\"url(#p66cc3129af)\">\n     <use style=\"fill:#bcbd22;stroke:#bcbd22;\" x=\"177.341051\" xlink:href=\"#md655b242e7\" y=\"17.083636\"/>\n    </g>\n   </g>\n   <g id=\"PathCollection_170\">\n    <g clip-path=\"url(#p66cc3129af)\">\n     <use style=\"fill:#17becf;stroke:#17becf;\" x=\"177.341051\" xlink:href=\"#m9d3ccbe567\" y=\"214.756364\"/>\n    </g>\n   </g>\n   <g id=\"PathCollection_171\">\n    <g clip-path=\"url(#p66cc3129af)\">\n     <use style=\"fill:#1f77b4;stroke:#1f77b4;\" x=\"202.704688\" xlink:href=\"#m2bd63d8493\" y=\"50.029091\"/>\n    </g>\n   </g>\n   <g id=\"PathCollection_172\">\n    <g clip-path=\"url(#p66cc3129af)\">\n     <use style=\"fill:#ff7f0e;stroke:#ff7f0e;\" x=\"50.522869\" xlink:href=\"#mf9b89584ef\" y=\"50.029091\"/>\n    </g>\n   </g>\n   <g id=\"PathCollection_173\">\n    <g clip-path=\"url(#p66cc3129af)\">\n     <use style=\"fill:#2ca02c;stroke:#2ca02c;\" x=\"354.886506\" xlink:href=\"#mc57c3a2a5c\" y=\"214.756364\"/>\n    </g>\n   </g>\n   <g id=\"PathCollection_174\">\n    <g clip-path=\"url(#p66cc3129af)\">\n     <use style=\"fill:#d62728;stroke:#d62728;\" x=\"50.522869\" xlink:href=\"#mb5817c2508\" y=\"181.810909\"/>\n    </g>\n   </g>\n   <g id=\"PathCollection_175\">\n    <g clip-path=\"url(#p66cc3129af)\">\n     <use style=\"fill:#9467bd;stroke:#9467bd;\" x=\"253.43196\" xlink:href=\"#mb74effecec\" y=\"148.865455\"/>\n    </g>\n   </g>\n   <g id=\"PathCollection_176\">\n    <g clip-path=\"url(#p66cc3129af)\">\n     <use style=\"fill:#8c564b;stroke:#8c564b;\" x=\"354.886506\" xlink:href=\"#m7fbe761db6\" y=\"214.756364\"/>\n    </g>\n   </g>\n   <g id=\"PathCollection_177\">\n    <g clip-path=\"url(#p66cc3129af)\">\n     <use style=\"fill:#e377c2;stroke:#e377c2;\" x=\"101.250142\" xlink:href=\"#m1703458d37\" y=\"17.083636\"/>\n    </g>\n   </g>\n   <g id=\"PathCollection_178\">\n    <g clip-path=\"url(#p66cc3129af)\">\n     <use style=\"fill:#7f7f7f;stroke:#7f7f7f;\" x=\"354.886506\" xlink:href=\"#m7953a65f28\" y=\"82.974545\"/>\n    </g>\n   </g>\n   <g id=\"PathCollection_179\">\n    <g clip-path=\"url(#p66cc3129af)\">\n     <use style=\"fill:#bcbd22;stroke:#bcbd22;\" x=\"228.068324\" xlink:href=\"#md655b242e7\" y=\"148.865455\"/>\n    </g>\n   </g>\n   <g id=\"PathCollection_180\">\n    <g clip-path=\"url(#p66cc3129af)\">\n     <use style=\"fill:#17becf;stroke:#17becf;\" x=\"329.522869\" xlink:href=\"#m9d3ccbe567\" y=\"50.029091\"/>\n    </g>\n   </g>\n   <g id=\"PathCollection_181\">\n    <g clip-path=\"url(#p66cc3129af)\">\n     <use style=\"fill:#1f77b4;stroke:#1f77b4;\" x=\"75.886506\" xlink:href=\"#m2bd63d8493\" y=\"50.029091\"/>\n    </g>\n   </g>\n   <g id=\"PathCollection_182\">\n    <g clip-path=\"url(#p66cc3129af)\">\n     <use style=\"fill:#ff7f0e;stroke:#ff7f0e;\" x=\"202.704688\" xlink:href=\"#mf9b89584ef\" y=\"17.083636\"/>\n    </g>\n   </g>\n   <g id=\"matplotlib.axis_1\">\n    <g id=\"xtick_1\">\n     <g id=\"line2d_1\">\n      <defs>\n       <path d=\"M 0 0 \nL 0 3.5 \n\" id=\"mc1652abcac\" style=\"stroke:#000000;stroke-width:0.8;\"/>\n      </defs>\n      <g>\n       <use style=\"stroke:#000000;stroke-width:0.8;\" x=\"88.131734\" xlink:href=\"#mc1652abcac\" y=\"224.64\"/>\n      </g>\n     </g>\n     <g id=\"text_1\">\n      <!-- −20 -->\n      <g transform=\"translate(77.579391 239.238437)scale(0.1 -0.1)\">\n       <defs>\n        <path d=\"M 678 2272 \nL 4684 2272 \nL 4684 1741 \nL 678 1741 \nL 678 2272 \nz\n\" id=\"DejaVuSans-2212\" transform=\"scale(0.015625)\"/>\n        <path d=\"M 1228 531 \nL 3431 531 \nL 3431 0 \nL 469 0 \nL 469 531 \nQ 828 903 1448 1529 \nQ 2069 2156 2228 2338 \nQ 2531 2678 2651 2914 \nQ 2772 3150 2772 3378 \nQ 2772 3750 2511 3984 \nQ 2250 4219 1831 4219 \nQ 1534 4219 1204 4116 \nQ 875 4013 500 3803 \nL 500 4441 \nQ 881 4594 1212 4672 \nQ 1544 4750 1819 4750 \nQ 2544 4750 2975 4387 \nQ 3406 4025 3406 3419 \nQ 3406 3131 3298 2873 \nQ 3191 2616 2906 2266 \nQ 2828 2175 2409 1742 \nQ 1991 1309 1228 531 \nz\n\" id=\"DejaVuSans-32\" transform=\"scale(0.015625)\"/>\n        <path d=\"M 2034 4250 \nQ 1547 4250 1301 3770 \nQ 1056 3291 1056 2328 \nQ 1056 1369 1301 889 \nQ 1547 409 2034 409 \nQ 2525 409 2770 889 \nQ 3016 1369 3016 2328 \nQ 3016 3291 2770 3770 \nQ 2525 4250 2034 4250 \nz\nM 2034 4750 \nQ 2819 4750 3233 4129 \nQ 3647 3509 3647 2328 \nQ 3647 1150 3233 529 \nQ 2819 -91 2034 -91 \nQ 1250 -91 836 529 \nQ 422 1150 422 2328 \nQ 422 3509 836 4129 \nQ 1250 4750 2034 4750 \nz\n\" id=\"DejaVuSans-30\" transform=\"scale(0.015625)\"/>\n       </defs>\n       <use xlink:href=\"#DejaVuSans-2212\"/>\n       <use x=\"83.789062\" xlink:href=\"#DejaVuSans-32\"/>\n       <use x=\"147.412109\" xlink:href=\"#DejaVuSans-30\"/>\n      </g>\n     </g>\n    </g>\n    <g id=\"xtick_2\">\n     <g id=\"line2d_2\">\n      <g>\n       <use style=\"stroke:#000000;stroke-width:0.8;\" x=\"145.418211\" xlink:href=\"#mc1652abcac\" y=\"224.64\"/>\n      </g>\n     </g>\n     <g id=\"text_2\">\n      <!-- −10 -->\n      <g transform=\"translate(134.865867 239.238437)scale(0.1 -0.1)\">\n       <defs>\n        <path d=\"M 794 531 \nL 1825 531 \nL 1825 4091 \nL 703 3866 \nL 703 4441 \nL 1819 4666 \nL 2450 4666 \nL 2450 531 \nL 3481 531 \nL 3481 0 \nL 794 0 \nL 794 531 \nz\n\" id=\"DejaVuSans-31\" transform=\"scale(0.015625)\"/>\n       </defs>\n       <use xlink:href=\"#DejaVuSans-2212\"/>\n       <use x=\"83.789062\" xlink:href=\"#DejaVuSans-31\"/>\n       <use x=\"147.412109\" xlink:href=\"#DejaVuSans-30\"/>\n      </g>\n     </g>\n    </g>\n    <g id=\"xtick_3\">\n     <g id=\"line2d_3\">\n      <g>\n       <use style=\"stroke:#000000;stroke-width:0.8;\" x=\"202.704688\" xlink:href=\"#mc1652abcac\" y=\"224.64\"/>\n      </g>\n     </g>\n     <g id=\"text_3\">\n      <!-- 0 -->\n      <g transform=\"translate(199.523438 239.238437)scale(0.1 -0.1)\">\n       <use xlink:href=\"#DejaVuSans-30\"/>\n      </g>\n     </g>\n    </g>\n    <g id=\"xtick_4\">\n     <g id=\"line2d_4\">\n      <g>\n       <use style=\"stroke:#000000;stroke-width:0.8;\" x=\"259.991164\" xlink:href=\"#mc1652abcac\" y=\"224.64\"/>\n      </g>\n     </g>\n     <g id=\"text_4\">\n      <!-- 10 -->\n      <g transform=\"translate(253.628664 239.238437)scale(0.1 -0.1)\">\n       <use xlink:href=\"#DejaVuSans-31\"/>\n       <use x=\"63.623047\" xlink:href=\"#DejaVuSans-30\"/>\n      </g>\n     </g>\n    </g>\n    <g id=\"xtick_5\">\n     <g id=\"line2d_5\">\n      <g>\n       <use style=\"stroke:#000000;stroke-width:0.8;\" x=\"317.277641\" xlink:href=\"#mc1652abcac\" y=\"224.64\"/>\n      </g>\n     </g>\n     <g id=\"text_5\">\n      <!-- 20 -->\n      <g transform=\"translate(310.915141 239.238437)scale(0.1 -0.1)\">\n       <use xlink:href=\"#DejaVuSans-32\"/>\n       <use x=\"63.623047\" xlink:href=\"#DejaVuSans-30\"/>\n      </g>\n     </g>\n    </g>\n   </g>\n   <g id=\"matplotlib.axis_2\">\n    <g id=\"ytick_1\">\n     <g id=\"line2d_6\">\n      <defs>\n       <path d=\"M 0 0 \nL -3.5 0 \n\" id=\"mc7b1122d7c\" style=\"stroke:#000000;stroke-width:0.8;\"/>\n      </defs>\n      <g>\n       <use style=\"stroke:#000000;stroke-width:0.8;\" x=\"35.304688\" xlink:href=\"#mc7b1122d7c\" y=\"210.297722\"/>\n      </g>\n     </g>\n     <g id=\"text_6\">\n      <!-- −15 -->\n      <g transform=\"translate(7.2 214.096941)scale(0.1 -0.1)\">\n       <defs>\n        <path d=\"M 691 4666 \nL 3169 4666 \nL 3169 4134 \nL 1269 4134 \nL 1269 2991 \nQ 1406 3038 1543 3061 \nQ 1681 3084 1819 3084 \nQ 2600 3084 3056 2656 \nQ 3513 2228 3513 1497 \nQ 3513 744 3044 326 \nQ 2575 -91 1722 -91 \nQ 1428 -91 1123 -41 \nQ 819 9 494 109 \nL 494 744 \nQ 775 591 1075 516 \nQ 1375 441 1709 441 \nQ 2250 441 2565 725 \nQ 2881 1009 2881 1497 \nQ 2881 1984 2565 2268 \nQ 2250 2553 1709 2553 \nQ 1456 2553 1204 2497 \nQ 953 2441 691 2322 \nL 691 4666 \nz\n\" id=\"DejaVuSans-35\" transform=\"scale(0.015625)\"/>\n       </defs>\n       <use xlink:href=\"#DejaVuSans-2212\"/>\n       <use x=\"83.789062\" xlink:href=\"#DejaVuSans-31\"/>\n       <use x=\"147.412109\" xlink:href=\"#DejaVuSans-35\"/>\n      </g>\n     </g>\n    </g>\n    <g id=\"ytick_2\">\n     <g id=\"line2d_7\">\n      <g>\n       <use style=\"stroke:#000000;stroke-width:0.8;\" x=\"35.304688\" xlink:href=\"#mc7b1122d7c\" y=\"178.838481\"/>\n      </g>\n     </g>\n     <g id=\"text_7\">\n      <!-- −10 -->\n      <g transform=\"translate(7.2 182.6377)scale(0.1 -0.1)\">\n       <use xlink:href=\"#DejaVuSans-2212\"/>\n       <use x=\"83.789062\" xlink:href=\"#DejaVuSans-31\"/>\n       <use x=\"147.412109\" xlink:href=\"#DejaVuSans-30\"/>\n      </g>\n     </g>\n    </g>\n    <g id=\"ytick_3\">\n     <g id=\"line2d_8\">\n      <g>\n       <use style=\"stroke:#000000;stroke-width:0.8;\" x=\"35.304688\" xlink:href=\"#mc7b1122d7c\" y=\"147.379241\"/>\n      </g>\n     </g>\n     <g id=\"text_8\">\n      <!-- −5 -->\n      <g transform=\"translate(13.5625 151.178459)scale(0.1 -0.1)\">\n       <use xlink:href=\"#DejaVuSans-2212\"/>\n       <use x=\"83.789062\" xlink:href=\"#DejaVuSans-35\"/>\n      </g>\n     </g>\n    </g>\n    <g id=\"ytick_4\">\n     <g id=\"line2d_9\">\n      <g>\n       <use style=\"stroke:#000000;stroke-width:0.8;\" x=\"35.304688\" xlink:href=\"#mc7b1122d7c\" y=\"115.92\"/>\n      </g>\n     </g>\n     <g id=\"text_9\">\n      <!-- 0 -->\n      <g transform=\"translate(21.942188 119.719219)scale(0.1 -0.1)\">\n       <use xlink:href=\"#DejaVuSans-30\"/>\n      </g>\n     </g>\n    </g>\n    <g id=\"ytick_5\">\n     <g id=\"line2d_10\">\n      <g>\n       <use style=\"stroke:#000000;stroke-width:0.8;\" x=\"35.304688\" xlink:href=\"#mc7b1122d7c\" y=\"84.460759\"/>\n      </g>\n     </g>\n     <g id=\"text_10\">\n      <!-- 5 -->\n      <g transform=\"translate(21.942188 88.259978)scale(0.1 -0.1)\">\n       <use xlink:href=\"#DejaVuSans-35\"/>\n      </g>\n     </g>\n    </g>\n    <g id=\"ytick_6\">\n     <g id=\"line2d_11\">\n      <g>\n       <use style=\"stroke:#000000;stroke-width:0.8;\" x=\"35.304688\" xlink:href=\"#mc7b1122d7c\" y=\"53.001519\"/>\n      </g>\n     </g>\n     <g id=\"text_11\">\n      <!-- 10 -->\n      <g transform=\"translate(15.579688 56.800737)scale(0.1 -0.1)\">\n       <use xlink:href=\"#DejaVuSans-31\"/>\n       <use x=\"63.623047\" xlink:href=\"#DejaVuSans-30\"/>\n      </g>\n     </g>\n    </g>\n    <g id=\"ytick_7\">\n     <g id=\"line2d_12\">\n      <g>\n       <use style=\"stroke:#000000;stroke-width:0.8;\" x=\"35.304688\" xlink:href=\"#mc7b1122d7c\" y=\"21.542278\"/>\n      </g>\n     </g>\n     <g id=\"text_12\">\n      <!-- 15 -->\n      <g transform=\"translate(15.579688 25.341497)scale(0.1 -0.1)\">\n       <use xlink:href=\"#DejaVuSans-31\"/>\n       <use x=\"63.623047\" xlink:href=\"#DejaVuSans-35\"/>\n      </g>\n     </g>\n    </g>\n   </g>\n   <g id=\"patch_3\">\n    <path d=\"M 35.304688 224.64 \nL 35.304688 7.2 \n\" style=\"fill:none;stroke:#000000;stroke-linecap:square;stroke-linejoin:miter;stroke-width:0.8;\"/>\n   </g>\n   <g id=\"patch_4\">\n    <path d=\"M 370.104688 224.64 \nL 370.104688 7.2 \n\" style=\"fill:none;stroke:#000000;stroke-linecap:square;stroke-linejoin:miter;stroke-width:0.8;\"/>\n   </g>\n   <g id=\"patch_5\">\n    <path d=\"M 35.304687 224.64 \nL 370.104688 224.64 \n\" style=\"fill:none;stroke:#000000;stroke-linecap:square;stroke-linejoin:miter;stroke-width:0.8;\"/>\n   </g>\n   <g id=\"patch_6\">\n    <path d=\"M 35.304687 7.2 \nL 370.104688 7.2 \n\" style=\"fill:none;stroke:#000000;stroke-linecap:square;stroke-linejoin:miter;stroke-width:0.8;\"/>\n   </g>\n  </g>\n </g>\n <defs>\n  <clipPath id=\"p66cc3129af\">\n   <rect height=\"217.44\" width=\"334.8\" x=\"35.304688\" y=\"7.2\"/>\n  </clipPath>\n </defs>\n</svg>\n",
      "image/png": "[encoded data removed]"
     },
     "metadata": {
      "needs_background": "light"
     }
    }
   ],
   "source": [
    "plt.figure()\n",
    "for i in range(len(lsn.frames_unique)):\n",
    "    frame_test = lsn.frames_unique[i][1]\n",
    "    for frame in frame_test:\n",
    "        plt.scatter(x=frame[0], y=frame[0])"
   ]
  },
  {
   "cell_type": "code",
   "execution_count": 118,
   "metadata": {},
   "outputs": [],
   "source": []
  },
  {
   "cell_type": "code",
   "execution_count": 120,
   "metadata": {},
   "outputs": [
    {
     "output_type": "execute_result",
     "data": {
      "text/plain": [
       "array([[2., 2., 2., 2., 2., 2., 2., 2., 2., 2., 2., 2., 2., 2., 2., 2.,\n",
       "        2., 2., 2., 2., 2., 2., 2., 2., 2.],\n",
       "       [2., 2., 2., 2., 2., 2., 2., 2., 2., 2., 2., 2., 2., 2., 2., 2.,\n",
       "        2., 2., 2., 2., 2., 2., 2., 2., 2.],\n",
       "       [2., 2., 2., 2., 2., 2., 2., 2., 2., 2., 2., 2., 2., 2., 2., 2.,\n",
       "        2., 2., 2., 2., 2., 2., 2., 2., 2.],\n",
       "       [2., 2., 2., 2., 2., 2., 2., 2., 2., 2., 2., 2., 2., 2., 2., 2.,\n",
       "        2., 2., 2., 2., 2., 2., 2., 2., 2.],\n",
       "       [2., 2., 2., 2., 2., 2., 2., 2., 2., 2., 2., 2., 2., 2., 2., 2.,\n",
       "        2., 2., 2., 2., 2., 2., 2., 2., 2.],\n",
       "       [2., 2., 2., 2., 2., 2., 2., 2., 2., 2., 2., 2., 2., 2., 2., 2.,\n",
       "        2., 2., 2., 2., 2., 2., 2., 2., 2.],\n",
       "       [2., 2., 2., 2., 2., 2., 2., 2., 2., 2., 2., 2., 2., 2., 2., 2.,\n",
       "        2., 2., 2., 2., 2., 2., 2., 2., 2.],\n",
       "       [2., 2., 2., 2., 2., 2., 2., 2., 2., 2., 2., 2., 2., 2., 2., 2.,\n",
       "        2., 2., 2., 2., 2., 2., 2., 2., 2.],\n",
       "       [2., 2., 2., 2., 2., 2., 2., 2., 2., 2., 2., 2., 2., 2., 2., 2.,\n",
       "        2., 2., 2., 2., 2., 2., 2., 2., 2.],\n",
       "       [2., 2., 2., 2., 2., 2., 2., 2., 2., 2., 2., 2., 2., 2., 2., 2.,\n",
       "        2., 2., 2., 2., 2., 2., 2., 2., 2.],\n",
       "       [2., 2., 2., 2., 2., 2., 2., 2., 2., 2., 2., 2., 2., 2., 2., 2.,\n",
       "        2., 2., 2., 2., 2., 2., 2., 2., 2.],\n",
       "       [2., 2., 2., 2., 2., 2., 2., 2., 2., 2., 2., 2., 2., 2., 2., 2.,\n",
       "        2., 2., 2., 2., 2., 2., 2., 2., 2.],\n",
       "       [2., 2., 2., 2., 2., 2., 2., 2., 2., 2., 2., 2., 2., 2., 2., 2.,\n",
       "        2., 2., 2., 2., 2., 2., 2., 2., 2.],\n",
       "       [2., 2., 2., 2., 2., 2., 2., 2., 2., 2., 2., 2., 2., 2., 2., 2.,\n",
       "        2., 2., 2., 2., 2., 2., 2., 2., 2.],\n",
       "       [2., 2., 2., 2., 2., 2., 2., 2., 2., 2., 2., 2., 2., 2., 2., 2.,\n",
       "        2., 2., 2., 2., 2., 2., 2., 2., 2.],\n",
       "       [2., 2., 2., 2., 2., 2., 2., 2., 2., 2., 2., 2., 2., 2., 2., 2.,\n",
       "        2., 2., 2., 2., 2., 2., 2., 2., 2.],\n",
       "       [2., 2., 2., 2., 2., 2., 2., 2., 2., 2., 2., 2., 2., 2., 2., 2.,\n",
       "        2., 2., 2., 2., 2., 2., 2., 2., 2.]])"
      ]
     },
     "metadata": {},
     "execution_count": 120
    }
   ],
   "source": []
  },
  {
   "cell_type": "code",
   "execution_count": 119,
   "metadata": {},
   "outputs": [
    {
     "output_type": "execute_result",
     "data": {
      "text/plain": [
       "<matplotlib.image.AxesImage at 0x7f4e3bed8c70>"
      ]
     },
     "metadata": {},
     "execution_count": 119
    },
    {
     "output_type": "display_data",
     "data": {
      "text/plain": "<Figure size 432x288 with 1 Axes>",
      "image/svg+xml": "<?xml version=\"1.0\" encoding=\"utf-8\" standalone=\"no\"?>\n<!DOCTYPE svg PUBLIC \"-//W3C//DTD SVG 1.1//EN\"\n  \"http://www.w3.org/Graphics/SVG/1.1/DTD/svg11.dtd\">\n<svg height=\"248.518125pt\" version=\"1.1\" viewBox=\"0 0 353.889706 248.518125\" width=\"353.889706pt\" xmlns=\"http://www.w3.org/2000/svg\" xmlns:xlink=\"http://www.w3.org/1999/xlink\">\n <metadata>\n  <rdf:RDF xmlns:cc=\"http://creativecommons.org/ns#\" xmlns:dc=\"http://purl.org/dc/elements/1.1/\" xmlns:rdf=\"http://www.w3.org/1999/02/22-rdf-syntax-ns#\">\n   <cc:Work>\n    <dc:type rdf:resource=\"http://purl.org/dc/dcmitype/StillImage\"/>\n    <dc:date>2021-08-17T20:39:31.875891</dc:date>\n    <dc:format>image/svg+xml</dc:format>\n    <dc:creator>\n     <cc:Agent>\n      <dc:title>Matplotlib v3.4.3, https://matplotlib.org/</dc:title>\n     </cc:Agent>\n    </dc:creator>\n   </cc:Work>\n  </rdf:RDF>\n </metadata>\n <defs>\n  <style type=\"text/css\">*{stroke-linecap:butt;stroke-linejoin:round;}</style>\n </defs>\n <g id=\"figure_1\">\n  <g id=\"patch_1\">\n   <path d=\"M 0 248.518125 \nL 353.889706 248.518125 \nL 353.889706 0 \nL 0 0 \nz\n\" style=\"fill:none;\"/>\n  </g>\n  <g id=\"axes_1\">\n   <g id=\"patch_2\">\n    <path d=\"M 26.925 224.64 \nL 346.689706 224.64 \nL 346.689706 7.2 \nL 26.925 7.2 \nz\n\" style=\"fill:#ffffff;\"/>\n   </g>\n   <g clip-path=\"url(#p0cdf495d4e)\">\n    <image height=\"218\" id=\"imagee935583786\" transform=\"scale(1 -1)translate(0 -218)\" width=\"320\" x=\"26.925\" xlink:href=\"data:image/png;base64,\niVBORw0KGgoAAAANSUhEUgAAAUAAAADaCAYAAADXGps7AAAC5ElEQVR4nO3UQQEAEADAQGQTQf8qxPDYXYK9Nvc8dwAErd8BAL8YIJBlgECWAQJZBghkGSCQZYBAlgECWQYIZBkgkGWAQJYBAlkGCGQZIJBlgECWAQJZBghkGSCQZYBAlgECWQYIZBkgkGWAQJYBAlkGCGQZIJBlgECWAQJZBghkGSCQZYBAlgECWQYIZBkgkGWAQJYBAlkGCGQZIJBlgECWAQJZBghkGSCQZYBAlgECWQYIZBkgkGWAQJYBAlkGCGQZIJBlgECWAQJZBghkGSCQZYBAlgECWQYIZBkgkGWAQJYBAlkGCGQZIJBlgECWAQJZBghkGSCQZYBAlgECWQYIZBkgkGWAQJYBAlkGCGQZIJBlgECWAQJZBghkGSCQZYBAlgECWQYIZBkgkGWAQJYBAlkGCGQZIJBlgECWAQJZBghkGSCQZYBAlgECWQYIZBkgkGWAQJYBAlkGCGQZIJBlgECWAQJZBghkGSCQZYBAlgECWQYIZBkgkGWAQJYBAlkGCGQZIJBlgECWAQJZBghkGSCQZYBAlgECWQYIZBkgkGWAQJYBAlkGCGQZIJBlgECWAQJZBghkGSCQZYBAlgECWQYIZBkgkGWAQJYBAlkGCGQZIJBlgECWAQJZBghkGSCQZYBAlgECWQYIZBkgkGWAQJYBAlkGCGQZIJBlgECWAQJZBghkGSCQZYBAlgECWQYIZBkgkGWAQJYBAlkGCGQZIJBlgECWAQJZBghkGSCQZYBAlgECWQYIZBkgkGWAQJYBAlkGCGQZIJBlgECWAQJZBghkGSCQZYBAlgECWQYIZBkgkGWAQJYBAlkGCGQZIJBlgECWAQJZBghkGSCQZYBAlgECWQYIZBkgkGWAQJYBAlkGCGQZIJBlgECWAQJZBghkGSCQZYBAlgECWQYIZBkgkGWAQJYBAlkGCGQZIJBlgECWAQJZBghkGSCQZYBAlgECWQYIZBkgkGWAQJYBAlkGCGQ9U0ADTKCfrqkAAAAASUVORK5CYII=\" y=\"-6.64\"/>\n   </g>\n   <g id=\"matplotlib.axis_1\">\n    <g id=\"xtick_1\">\n     <g id=\"line2d_1\">\n      <defs>\n       <path d=\"M 0 0 \nL 0 3.5 \n\" id=\"m4a7b0676d0\" style=\"stroke:#000000;stroke-width:0.8;\"/>\n      </defs>\n      <g>\n       <use style=\"stroke:#000000;stroke-width:0.8;\" x=\"33.320294\" xlink:href=\"#m4a7b0676d0\" y=\"224.64\"/>\n      </g>\n     </g>\n     <g id=\"text_1\">\n      <!-- 0 -->\n      <g transform=\"translate(30.139044 239.238437)scale(0.1 -0.1)\">\n       <defs>\n        <path d=\"M 2034 4250 \nQ 1547 4250 1301 3770 \nQ 1056 3291 1056 2328 \nQ 1056 1369 1301 889 \nQ 1547 409 2034 409 \nQ 2525 409 2770 889 \nQ 3016 1369 3016 2328 \nQ 3016 3291 2770 3770 \nQ 2525 4250 2034 4250 \nz\nM 2034 4750 \nQ 2819 4750 3233 4129 \nQ 3647 3509 3647 2328 \nQ 3647 1150 3233 529 \nQ 2819 -91 2034 -91 \nQ 1250 -91 836 529 \nQ 422 1150 422 2328 \nQ 422 3509 836 4129 \nQ 1250 4750 2034 4750 \nz\n\" id=\"DejaVuSans-30\" transform=\"scale(0.015625)\"/>\n       </defs>\n       <use xlink:href=\"#DejaVuSans-30\"/>\n      </g>\n     </g>\n    </g>\n    <g id=\"xtick_2\">\n     <g id=\"line2d_2\">\n      <g>\n       <use style=\"stroke:#000000;stroke-width:0.8;\" x=\"97.273235\" xlink:href=\"#m4a7b0676d0\" y=\"224.64\"/>\n      </g>\n     </g>\n     <g id=\"text_2\">\n      <!-- 5 -->\n      <g transform=\"translate(94.091985 239.238437)scale(0.1 -0.1)\">\n       <defs>\n        <path d=\"M 691 4666 \nL 3169 4666 \nL 3169 4134 \nL 1269 4134 \nL 1269 2991 \nQ 1406 3038 1543 3061 \nQ 1681 3084 1819 3084 \nQ 2600 3084 3056 2656 \nQ 3513 2228 3513 1497 \nQ 3513 744 3044 326 \nQ 2575 -91 1722 -91 \nQ 1428 -91 1123 -41 \nQ 819 9 494 109 \nL 494 744 \nQ 775 591 1075 516 \nQ 1375 441 1709 441 \nQ 2250 441 2565 725 \nQ 2881 1009 2881 1497 \nQ 2881 1984 2565 2268 \nQ 2250 2553 1709 2553 \nQ 1456 2553 1204 2497 \nQ 953 2441 691 2322 \nL 691 4666 \nz\n\" id=\"DejaVuSans-35\" transform=\"scale(0.015625)\"/>\n       </defs>\n       <use xlink:href=\"#DejaVuSans-35\"/>\n      </g>\n     </g>\n    </g>\n    <g id=\"xtick_3\">\n     <g id=\"line2d_3\">\n      <g>\n       <use style=\"stroke:#000000;stroke-width:0.8;\" x=\"161.226176\" xlink:href=\"#m4a7b0676d0\" y=\"224.64\"/>\n      </g>\n     </g>\n     <g id=\"text_3\">\n      <!-- 10 -->\n      <g transform=\"translate(154.863676 239.238437)scale(0.1 -0.1)\">\n       <defs>\n        <path d=\"M 794 531 \nL 1825 531 \nL 1825 4091 \nL 703 3866 \nL 703 4441 \nL 1819 4666 \nL 2450 4666 \nL 2450 531 \nL 3481 531 \nL 3481 0 \nL 794 0 \nL 794 531 \nz\n\" id=\"DejaVuSans-31\" transform=\"scale(0.015625)\"/>\n       </defs>\n       <use xlink:href=\"#DejaVuSans-31\"/>\n       <use x=\"63.623047\" xlink:href=\"#DejaVuSans-30\"/>\n      </g>\n     </g>\n    </g>\n    <g id=\"xtick_4\">\n     <g id=\"line2d_4\">\n      <g>\n       <use style=\"stroke:#000000;stroke-width:0.8;\" x=\"225.179118\" xlink:href=\"#m4a7b0676d0\" y=\"224.64\"/>\n      </g>\n     </g>\n     <g id=\"text_4\">\n      <!-- 15 -->\n      <g transform=\"translate(218.816618 239.238437)scale(0.1 -0.1)\">\n       <use xlink:href=\"#DejaVuSans-31\"/>\n       <use x=\"63.623047\" xlink:href=\"#DejaVuSans-35\"/>\n      </g>\n     </g>\n    </g>\n    <g id=\"xtick_5\">\n     <g id=\"line2d_5\">\n      <g>\n       <use style=\"stroke:#000000;stroke-width:0.8;\" x=\"289.132059\" xlink:href=\"#m4a7b0676d0\" y=\"224.64\"/>\n      </g>\n     </g>\n     <g id=\"text_5\">\n      <!-- 20 -->\n      <g transform=\"translate(282.769559 239.238437)scale(0.1 -0.1)\">\n       <defs>\n        <path d=\"M 1228 531 \nL 3431 531 \nL 3431 0 \nL 469 0 \nL 469 531 \nQ 828 903 1448 1529 \nQ 2069 2156 2228 2338 \nQ 2531 2678 2651 2914 \nQ 2772 3150 2772 3378 \nQ 2772 3750 2511 3984 \nQ 2250 4219 1831 4219 \nQ 1534 4219 1204 4116 \nQ 875 4013 500 3803 \nL 500 4441 \nQ 881 4594 1212 4672 \nQ 1544 4750 1819 4750 \nQ 2544 4750 2975 4387 \nQ 3406 4025 3406 3419 \nQ 3406 3131 3298 2873 \nQ 3191 2616 2906 2266 \nQ 2828 2175 2409 1742 \nQ 1991 1309 1228 531 \nz\n\" id=\"DejaVuSans-32\" transform=\"scale(0.015625)\"/>\n       </defs>\n       <use xlink:href=\"#DejaVuSans-32\"/>\n       <use x=\"63.623047\" xlink:href=\"#DejaVuSans-30\"/>\n      </g>\n     </g>\n    </g>\n   </g>\n   <g id=\"matplotlib.axis_2\">\n    <g id=\"ytick_1\">\n     <g id=\"line2d_6\">\n      <defs>\n       <path d=\"M 0 0 \nL -3.5 0 \n\" id=\"m2145f47782\" style=\"stroke:#000000;stroke-width:0.8;\"/>\n      </defs>\n      <g>\n       <use style=\"stroke:#000000;stroke-width:0.8;\" x=\"26.925\" xlink:href=\"#m2145f47782\" y=\"13.595294\"/>\n      </g>\n     </g>\n     <g id=\"text_6\">\n      <!-- 0 -->\n      <g transform=\"translate(13.5625 17.394513)scale(0.1 -0.1)\">\n       <use xlink:href=\"#DejaVuSans-30\"/>\n      </g>\n     </g>\n    </g>\n    <g id=\"ytick_2\">\n     <g id=\"line2d_7\">\n      <g>\n       <use style=\"stroke:#000000;stroke-width:0.8;\" x=\"26.925\" xlink:href=\"#m2145f47782\" y=\"39.176471\"/>\n      </g>\n     </g>\n     <g id=\"text_7\">\n      <!-- 2 -->\n      <g transform=\"translate(13.5625 42.975689)scale(0.1 -0.1)\">\n       <use xlink:href=\"#DejaVuSans-32\"/>\n      </g>\n     </g>\n    </g>\n    <g id=\"ytick_3\">\n     <g id=\"line2d_8\">\n      <g>\n       <use style=\"stroke:#000000;stroke-width:0.8;\" x=\"26.925\" xlink:href=\"#m2145f47782\" y=\"64.757647\"/>\n      </g>\n     </g>\n     <g id=\"text_8\">\n      <!-- 4 -->\n      <g transform=\"translate(13.5625 68.556866)scale(0.1 -0.1)\">\n       <defs>\n        <path d=\"M 2419 4116 \nL 825 1625 \nL 2419 1625 \nL 2419 4116 \nz\nM 2253 4666 \nL 3047 4666 \nL 3047 1625 \nL 3713 1625 \nL 3713 1100 \nL 3047 1100 \nL 3047 0 \nL 2419 0 \nL 2419 1100 \nL 313 1100 \nL 313 1709 \nL 2253 4666 \nz\n\" id=\"DejaVuSans-34\" transform=\"scale(0.015625)\"/>\n       </defs>\n       <use xlink:href=\"#DejaVuSans-34\"/>\n      </g>\n     </g>\n    </g>\n    <g id=\"ytick_4\">\n     <g id=\"line2d_9\">\n      <g>\n       <use style=\"stroke:#000000;stroke-width:0.8;\" x=\"26.925\" xlink:href=\"#m2145f47782\" y=\"90.338824\"/>\n      </g>\n     </g>\n     <g id=\"text_9\">\n      <!-- 6 -->\n      <g transform=\"translate(13.5625 94.138042)scale(0.1 -0.1)\">\n       <defs>\n        <path d=\"M 2113 2584 \nQ 1688 2584 1439 2293 \nQ 1191 2003 1191 1497 \nQ 1191 994 1439 701 \nQ 1688 409 2113 409 \nQ 2538 409 2786 701 \nQ 3034 994 3034 1497 \nQ 3034 2003 2786 2293 \nQ 2538 2584 2113 2584 \nz\nM 3366 4563 \nL 3366 3988 \nQ 3128 4100 2886 4159 \nQ 2644 4219 2406 4219 \nQ 1781 4219 1451 3797 \nQ 1122 3375 1075 2522 \nQ 1259 2794 1537 2939 \nQ 1816 3084 2150 3084 \nQ 2853 3084 3261 2657 \nQ 3669 2231 3669 1497 \nQ 3669 778 3244 343 \nQ 2819 -91 2113 -91 \nQ 1303 -91 875 529 \nQ 447 1150 447 2328 \nQ 447 3434 972 4092 \nQ 1497 4750 2381 4750 \nQ 2619 4750 2861 4703 \nQ 3103 4656 3366 4563 \nz\n\" id=\"DejaVuSans-36\" transform=\"scale(0.015625)\"/>\n       </defs>\n       <use xlink:href=\"#DejaVuSans-36\"/>\n      </g>\n     </g>\n    </g>\n    <g id=\"ytick_5\">\n     <g id=\"line2d_10\">\n      <g>\n       <use style=\"stroke:#000000;stroke-width:0.8;\" x=\"26.925\" xlink:href=\"#m2145f47782\" y=\"115.92\"/>\n      </g>\n     </g>\n     <g id=\"text_10\">\n      <!-- 8 -->\n      <g transform=\"translate(13.5625 119.719219)scale(0.1 -0.1)\">\n       <defs>\n        <path d=\"M 2034 2216 \nQ 1584 2216 1326 1975 \nQ 1069 1734 1069 1313 \nQ 1069 891 1326 650 \nQ 1584 409 2034 409 \nQ 2484 409 2743 651 \nQ 3003 894 3003 1313 \nQ 3003 1734 2745 1975 \nQ 2488 2216 2034 2216 \nz\nM 1403 2484 \nQ 997 2584 770 2862 \nQ 544 3141 544 3541 \nQ 544 4100 942 4425 \nQ 1341 4750 2034 4750 \nQ 2731 4750 3128 4425 \nQ 3525 4100 3525 3541 \nQ 3525 3141 3298 2862 \nQ 3072 2584 2669 2484 \nQ 3125 2378 3379 2068 \nQ 3634 1759 3634 1313 \nQ 3634 634 3220 271 \nQ 2806 -91 2034 -91 \nQ 1263 -91 848 271 \nQ 434 634 434 1313 \nQ 434 1759 690 2068 \nQ 947 2378 1403 2484 \nz\nM 1172 3481 \nQ 1172 3119 1398 2916 \nQ 1625 2713 2034 2713 \nQ 2441 2713 2670 2916 \nQ 2900 3119 2900 3481 \nQ 2900 3844 2670 4047 \nQ 2441 4250 2034 4250 \nQ 1625 4250 1398 4047 \nQ 1172 3844 1172 3481 \nz\n\" id=\"DejaVuSans-38\" transform=\"scale(0.015625)\"/>\n       </defs>\n       <use xlink:href=\"#DejaVuSans-38\"/>\n      </g>\n     </g>\n    </g>\n    <g id=\"ytick_6\">\n     <g id=\"line2d_11\">\n      <g>\n       <use style=\"stroke:#000000;stroke-width:0.8;\" x=\"26.925\" xlink:href=\"#m2145f47782\" y=\"141.501176\"/>\n      </g>\n     </g>\n     <g id=\"text_11\">\n      <!-- 10 -->\n      <g transform=\"translate(7.2 145.300395)scale(0.1 -0.1)\">\n       <use xlink:href=\"#DejaVuSans-31\"/>\n       <use x=\"63.623047\" xlink:href=\"#DejaVuSans-30\"/>\n      </g>\n     </g>\n    </g>\n    <g id=\"ytick_7\">\n     <g id=\"line2d_12\">\n      <g>\n       <use style=\"stroke:#000000;stroke-width:0.8;\" x=\"26.925\" xlink:href=\"#m2145f47782\" y=\"167.082353\"/>\n      </g>\n     </g>\n     <g id=\"text_12\">\n      <!-- 12 -->\n      <g transform=\"translate(7.2 170.881572)scale(0.1 -0.1)\">\n       <use xlink:href=\"#DejaVuSans-31\"/>\n       <use x=\"63.623047\" xlink:href=\"#DejaVuSans-32\"/>\n      </g>\n     </g>\n    </g>\n    <g id=\"ytick_8\">\n     <g id=\"line2d_13\">\n      <g>\n       <use style=\"stroke:#000000;stroke-width:0.8;\" x=\"26.925\" xlink:href=\"#m2145f47782\" y=\"192.663529\"/>\n      </g>\n     </g>\n     <g id=\"text_13\">\n      <!-- 14 -->\n      <g transform=\"translate(7.2 196.462748)scale(0.1 -0.1)\">\n       <use xlink:href=\"#DejaVuSans-31\"/>\n       <use x=\"63.623047\" xlink:href=\"#DejaVuSans-34\"/>\n      </g>\n     </g>\n    </g>\n    <g id=\"ytick_9\">\n     <g id=\"line2d_14\">\n      <g>\n       <use style=\"stroke:#000000;stroke-width:0.8;\" x=\"26.925\" xlink:href=\"#m2145f47782\" y=\"218.244706\"/>\n      </g>\n     </g>\n     <g id=\"text_14\">\n      <!-- 16 -->\n      <g transform=\"translate(7.2 222.043925)scale(0.1 -0.1)\">\n       <use xlink:href=\"#DejaVuSans-31\"/>\n       <use x=\"63.623047\" xlink:href=\"#DejaVuSans-36\"/>\n      </g>\n     </g>\n    </g>\n   </g>\n   <g id=\"patch_3\">\n    <path d=\"M 26.925 224.64 \nL 26.925 7.2 \n\" style=\"fill:none;stroke:#000000;stroke-linecap:square;stroke-linejoin:miter;stroke-width:0.8;\"/>\n   </g>\n   <g id=\"patch_4\">\n    <path d=\"M 346.689706 224.64 \nL 346.689706 7.2 \n\" style=\"fill:none;stroke:#000000;stroke-linecap:square;stroke-linejoin:miter;stroke-width:0.8;\"/>\n   </g>\n   <g id=\"patch_5\">\n    <path d=\"M 26.925 224.64 \nL 346.689706 224.64 \n\" style=\"fill:none;stroke:#000000;stroke-linecap:square;stroke-linejoin:miter;stroke-width:0.8;\"/>\n   </g>\n   <g id=\"patch_6\">\n    <path d=\"M 26.925 7.2 \nL 346.689706 7.2 \n\" style=\"fill:none;stroke:#000000;stroke-linecap:square;stroke-linejoin:miter;stroke-width:0.8;\"/>\n   </g>\n  </g>\n </g>\n <defs>\n  <clipPath id=\"p0cdf495d4e\">\n   <rect height=\"217.44\" width=\"319.764706\" x=\"26.925\" y=\"7.2\"/>\n  </clipPath>\n </defs>\n</svg>\n",
      "image/png": "[encoded data removed]"
     },
     "metadata": {
      "needs_background": "light"
     }
    }
   ],
   "source": [
    "plt.figure()\n",
    "plt.imshow(probes_image)"
   ]
  },
  {
   "cell_type": "code",
   "execution_count": 21,
   "metadata": {},
   "outputs": [
    {
     "data": {
      "text/plain": [
       "array([-51.49934628, -47.20773409, -42.9161219 , -38.62450971,\n",
       "       -34.33289752, -30.04128533, -25.74967314, -21.45806095,\n",
       "       -17.16644876, -12.87483657,  -8.58322438,  -4.29161219,\n",
       "         0.        ,   4.29161219,   8.58322438,  12.87483657,\n",
       "        17.16644876,  21.45806095,  25.74967314,  30.04128533,\n",
       "        34.33289752,  38.62450971,  42.9161219 ,  47.20773409,\n",
       "        51.49934628])"
      ]
     },
     "execution_count": 21,
     "metadata": {},
     "output_type": "execute_result"
    }
   ],
   "source": [
    "azi_probe_coords"
   ]
  },
  {
   "cell_type": "code",
   "execution_count": 22,
   "metadata": {},
   "outputs": [],
   "source": [
    "probe_size = (4, 4)\n",
    "\n",
    "grid_locations = []\n",
    "for alt in alt_probe_coords:\n",
    "    for azi in azi_probe_coords:\n",
    "        grid_locations.append([alt, azi])"
   ]
  },
  {
   "cell_type": "code",
   "execution_count": null,
   "metadata": {},
   "outputs": [],
   "source": []
  },
  {
   "cell_type": "code",
   "execution_count": 25,
   "metadata": {},
   "outputs": [
    {
     "data": {
      "text/plain": [
       "[<matplotlib.lines.Line2D at 0x7f53da3ada20>]"
      ]
     },
     "execution_count": 25,
     "metadata": {},
     "output_type": "execute_result"
    },
    {
     "data": {
      "image/png": "[encoded data removed]",
      "text/plain": [
       "<Figure size 432x288 with 1 Axes>"
      ]
     },
     "metadata": {
      "needs_background": "light"
     },
     "output_type": "display_data"
    }
   ],
   "source": [
    "plt.figure()\n",
    "plt.plot(grid_locations[:, 1], grid_locations[:, 0], 'b.')"
   ]
  },
  {
   "cell_type": "code",
   "execution_count": null,
   "metadata": {},
   "outputs": [],
   "source": []
  }
 ],
 "metadata": {
  "kernelspec": {
   "name": "python3",
   "display_name": "Python 3.8.10 64-bit"
  },
  "language_info": {
   "codemirror_mode": {
    "name": "ipython",
    "version": 3
   },
   "file_extension": ".py",
   "mimetype": "text/x-python",
   "name": "python",
   "nbconvert_exporter": "python",
   "pygments_lexer": "ipython3",
   "version": "3.8.10"
  },
  "interpreter": {
   "hash": "916dbcbb3f70747c44a77c7bcd40155683ae19c65e1c03b4aa3499c5328201f1"
  }
 },
 "nbformat": 4,
 "nbformat_minor": 2
}