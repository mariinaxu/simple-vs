{
 "cells": [
  {
   "cell_type": "code",
   "execution_count": 1,
   "metadata": {},
   "outputs": [],
   "source": [
    "import numpy as np\n",
    "import matplotlib.pyplot as plt\n",
    "import pandas as pd\n",
    "import pickle"
   ]
  },
  {
   "cell_type": "code",
   "execution_count": 118,
   "metadata": {},
   "outputs": [],
   "source": [
    "file = \"/home/k1n4s3/TESTS/M200324_12346_FB/VSLogs/M200324_12346_FB_exp_log.pkl\""
   ]
  },
  {
   "cell_type": "code",
   "execution_count": 119,
   "metadata": {},
   "outputs": [],
   "source": [
    "with open(file, 'rb') as f:\n",
    "    exp_log = pickle.load(f)"
   ]
  },
  {
   "cell_type": "code",
   "execution_count": null,
   "metadata": {},
   "outputs": [],
   "source": []
  },
  {
   "cell_type": "code",
   "execution_count": 132,
   "metadata": {},
   "outputs": [],
   "source": [
    "ni_log_filename = \"/home/k1n4s3/LABSERVER6/MOUSE/FB_WF_Analysis/TEX/M200327_12346_FB/VSLogs/M200327_12346_FB_ni_log.npy\""
   ]
  },
  {
   "cell_type": "code",
   "execution_count": 133,
   "metadata": {},
   "outputs": [],
   "source": [
    "log = np.load(ni_log_filename)"
   ]
  },
  {
   "cell_type": "code",
   "execution_count": 134,
   "metadata": {},
   "outputs": [
    {
     "data": {
      "text/plain": [
       "(35, 8, 5000)"
      ]
     },
     "execution_count": 134,
     "metadata": {},
     "output_type": "execute_result"
    }
   ],
   "source": [
    "log.shape"
   ]
  },
  {
   "cell_type": "code",
   "execution_count": 142,
   "metadata": {},
   "outputs": [
    {
     "data": {
      "text/plain": [
       "<matplotlib.image.AxesImage at 0x7f46586f6668>"
      ]
     },
     "execution_count": 142,
     "metadata": {},
     "output_type": "execute_result"
    },
    {
     "data": {
      "image/png": "[encoded data removed]",
      "text/plain": [
       "<Figure size 432x288 with 1 Axes>"
      ]
     },
     "metadata": {
      "needs_background": "light"
     },
     "output_type": "display_data"
    }
   ],
   "source": [
    "plt.figure()\n",
    "plt.imshow(log[30, :, :], aspect='auto', vmin=0, vmax=2)"
   ]
  },
  {
   "cell_type": "code",
   "execution_count": 145,
   "metadata": {},
   "outputs": [
    {
     "data": {
      "text/plain": [
       "[<matplotlib.lines.Line2D at 0x7f4658615a58>]"
      ]
     },
     "execution_count": 145,
     "metadata": {},
     "output_type": "execute_result"
    },
    {
     "data": {
      "image/png": "[encoded data removed]",
      "text/plain": [
       "<Figure size 432x288 with 1 Axes>"
      ]
     },
     "metadata": {
      "needs_background": "light"
     },
     "output_type": "display_data"
    }
   ],
   "source": [
    "plt.figure()\n",
    "plt.plot(log[32, 2, :])"
   ]
  },
  {
   "cell_type": "code",
   "execution_count": 128,
   "metadata": {},
   "outputs": [],
   "source": [
    "signal = log[4, 2, :]"
   ]
  },
  {
   "cell_type": "code",
   "execution_count": 130,
   "metadata": {},
   "outputs": [
    {
     "data": {
      "text/plain": [
       "167"
      ]
     },
     "execution_count": 130,
     "metadata": {},
     "output_type": "execute_result"
    }
   ],
   "source": [
    "301-134"
   ]
  },
  {
   "cell_type": "code",
   "execution_count": 131,
   "metadata": {},
   "outputs": [
    {
     "data": {
      "text/plain": [
       "33.4"
      ]
     },
     "execution_count": 131,
     "metadata": {},
     "output_type": "execute_result"
    }
   ],
   "source": [
    "167/5000*1000"
   ]
  },
  {
   "cell_type": "code",
   "execution_count": 129,
   "metadata": {},
   "outputs": [
    {
     "data": {
      "text/plain": [
       "(array([ 134,  135,  301,  302,  468,  634,  635,  801,  968, 1134, 1135,\n",
       "        1301, 1467, 1468, 1634, 1635, 1801, 1967, 1968, 2134, 2135, 2301,\n",
       "        2467, 2468, 2634, 2635, 2801, 2967, 2968, 3134, 3135, 3301, 3467,\n",
       "        3468, 3634, 3635, 3801, 3967, 3968, 4134, 4135, 4301, 4467, 4468,\n",
       "        4634, 4635, 4801, 4967, 4968]),)"
      ]
     },
     "execution_count": 129,
     "metadata": {},
     "output_type": "execute_result"
    }
   ],
   "source": [
    "np.where(signal < 0.5)"
   ]
  },
  {
   "cell_type": "code",
   "execution_count": 1,
   "metadata": {},
   "outputs": [],
   "source": [
    "all_stim = [0, 90, 45, 135]\n",
    "all_stim.append('blank')"
   ]
  },
  {
   "cell_type": "code",
   "execution_count": 3,
   "metadata": {},
   "outputs": [],
   "source": [
    "all_stim\n",
    "n_trials = 10"
   ]
  },
  {
   "cell_type": "code",
   "execution_count": 8,
   "metadata": {},
   "outputs": [],
   "source": [
    "experiment_stims = all_stim * (n_trials//len(all_stim))"
   ]
  },
  {
   "cell_type": "code",
   "execution_count": 14,
   "metadata": {},
   "outputs": [],
   "source": [
    "np.random.shuffle(experiment_stims)"
   ]
  },
  {
   "cell_type": "code",
   "execution_count": 15,
   "metadata": {},
   "outputs": [
    {
     "data": {
      "text/plain": [
       "[90, 'blank', 90, 135, 0, 45, 'blank', 45, 135, 0]"
      ]
     },
     "execution_count": 15,
     "metadata": {},
     "output_type": "execute_result"
    }
   ],
   "source": [
    "experiment_stims"
   ]
  },
  {
   "cell_type": "code",
   "execution_count": 17,
   "metadata": {},
   "outputs": [],
   "source": [
    "import pickle"
   ]
  },
  {
   "cell_type": "code",
   "execution_count": 19,
   "metadata": {},
   "outputs": [],
   "source": [
    "with open(\"/home/k1n4s3/TESTS/M200317_12346_FB/VSLogs/M200317_12346_FB_exp_log.pkl\", \"rb\") as f:\n",
    "\n",
    "    dict = pickle.load(f)"
   ]
  },
  {
   "cell_type": "code",
   "execution_count": 28,
   "metadata": {},
   "outputs": [
    {
     "data": {
      "text/plain": [
       "(5, 4)"
      ]
     },
     "execution_count": 28,
     "metadata": {},
     "output_type": "execute_result"
    }
   ],
   "source": [
    "np.asarray(dict['trial_params']).shape"
   ]
  },
  {
   "cell_type": "code",
   "execution_count": 29,
   "metadata": {},
   "outputs": [],
   "source": [
    "arr = np.arange(168)"
   ]
  },
  {
   "cell_type": "code",
   "execution_count": 32,
   "metadata": {},
   "outputs": [],
   "source": [
    "n_images = 10\n",
    "assert np.mod(arr.shape[0], 2) == 0\n",
    "noise_start_index = arr.shape[0]//2"
   ]
  },
  {
   "cell_type": "code",
   "execution_count": 35,
   "metadata": {},
   "outputs": [
    {
     "data": {
      "text/plain": [
       "array([32,  9, 29, 19, 48, 15, 78, 61, 39, 27])"
      ]
     },
     "execution_count": 35,
     "metadata": {},
     "output_type": "execute_result"
    }
   ],
   "source": [
    "np.random.choice(arr[:noise_start_index], 10)"
   ]
  },
  {
   "cell_type": "code",
   "execution_count": 31,
   "metadata": {},
   "outputs": [
    {
     "data": {
      "text/plain": [
       "array([  0,   2,   4,   6,   8,  10,  12,  14,  16,  18,  20,  22,  24,\n",
       "        26,  28,  30,  32,  34,  36,  38,  40,  42,  44,  46,  48,  50,\n",
       "        52,  54,  56,  58,  60,  62,  64,  66,  68,  70,  72,  74,  76,\n",
       "        78,  80,  82,  84,  86,  88,  90,  92,  94,  96,  98, 100, 102,\n",
       "       104, 106, 108, 110, 112, 114, 116, 118, 120, 122, 124, 126, 128,\n",
       "       130, 132, 134, 136, 138, 140, 142, 144, 146, 148, 150, 152, 154,\n",
       "       156, 158, 160, 162, 164, 166])"
      ]
     },
     "execution_count": 31,
     "metadata": {},
     "output_type": "execute_result"
    }
   ],
   "source": [
    "arr[::2]"
   ]
  },
  {
   "cell_type": "code",
   "execution_count": 1,
   "metadata": {},
   "outputs": [],
   "source": [
    "grating_orientations = [0, 45, 90, 135]\n",
    "grating_sfs = [0.01, 0.05, 0.1, 0.2]\n",
    "grating_sizes = [10, 20, 40, 80]"
   ]
  },
  {
   "cell_type": "code",
   "execution_count": 8,
   "metadata": {},
   "outputs": [],
   "source": [
    "params_list = [grating_orientations, grating_sfs, grating_sizes]\n",
    "params_list.append('blank')"
   ]
  },
  {
   "cell_type": "code",
   "execution_count": 12,
   "metadata": {},
   "outputs": [],
   "source": [
    "all_experiment_stims = params_list*4"
   ]
  },
  {
   "cell_type": "code",
   "execution_count": 13,
   "metadata": {},
   "outputs": [],
   "source": [
    "np.random.shuffle(all_experiment_stims)"
   ]
  },
  {
   "cell_type": "code",
   "execution_count": 15,
   "metadata": {},
   "outputs": [
    {
     "data": {
      "text/plain": [
       "[[0.01, 0.05, 0.1, 0.2],\n",
       " 'blank',\n",
       " [10, 20, 40, 80],\n",
       " [10, 20, 40, 80],\n",
       " 'blank',\n",
       " [0, 45, 90, 135],\n",
       " [0, 45, 90, 135],\n",
       " [0.01, 0.05, 0.1, 0.2],\n",
       " 'blank',\n",
       " [0.01, 0.05, 0.1, 0.2],\n",
       " [0.01, 0.05, 0.1, 0.2],\n",
       " [10, 20, 40, 80],\n",
       " [0, 45, 90, 135],\n",
       " [10, 20, 40, 80],\n",
       " [0, 45, 90, 135],\n",
       " 'blank']"
      ]
     },
     "execution_count": 15,
     "metadata": {},
     "output_type": "execute_result"
    }
   ],
   "source": [
    "all_experiment_stims"
   ]
  },
  {
   "cell_type": "code",
   "execution_count": 18,
   "metadata": {},
   "outputs": [],
   "source": [
    "if [0, 1, 2] is list:\n",
    "    print(\"lol\")"
   ]
  },
  {
   "cell_type": "markdown",
   "metadata": {},
   "source": [
    "## TextureExperimentVGG"
   ]
  },
  {
   "cell_type": "markdown",
   "metadata": {},
   "source": [
    "* Needed to present stimuli of varying sizes.\n",
    "* Attempting to find optimal SNR for textures vs scramble"
   ]
  },
  {
   "cell_type": "code",
   "execution_count": 173,
   "metadata": {},
   "outputs": [],
   "source": [
    "n_images = 10"
   ]
  },
  {
   "cell_type": "code",
   "execution_count": 174,
   "metadata": {},
   "outputs": [],
   "source": [
    "n_stims_per_condition = 10"
   ]
  },
  {
   "cell_type": "code",
   "execution_count": 175,
   "metadata": {},
   "outputs": [],
   "source": [
    "image_sizes = [10, 50, 100]"
   ]
  },
  {
   "cell_type": "code",
   "execution_count": 176,
   "metadata": {},
   "outputs": [
    {
     "data": {
      "text/plain": [
       "array([0, 1, 2, 3, 4, 5, 6, 7, 8, 9])"
      ]
     },
     "execution_count": 176,
     "metadata": {},
     "output_type": "execute_result"
    }
   ],
   "source": [
    "np.arange(n_images)"
   ]
  },
  {
   "cell_type": "code",
   "execution_count": 177,
   "metadata": {},
   "outputs": [],
   "source": [
    "experiment_stims = np.repeat(np.arange(n_images), n_stims_per_condition)\n",
    "# the line below seems to be a rather strange way to repeat the whole array...\n",
    "# consider a better method...\n",
    "experiment_stims = np.asarray(list(experiment_stims)*len(image_sizes))\n",
    "stim_sizes = np.repeat(image_sizes, n_images*n_stims_per_condition)\n",
    "\n",
    "\n",
    "    \n",
    "# shuffle the image indices and the stimuli sizes with the same pattern\n",
    "rng_state = np.random.get_state()\n",
    "np.random.shuffle(experiment_stims)\n",
    "np.random.set_state(rng_state)\n",
    "np.random.shuffle(stim_sizes)"
   ]
  },
  {
   "cell_type": "code",
   "execution_count": 178,
   "metadata": {},
   "outputs": [
    {
     "data": {
      "text/plain": [
       "(300,)"
      ]
     },
     "execution_count": 178,
     "metadata": {},
     "output_type": "execute_result"
    }
   ],
   "source": [
    "experiment_stims.shape"
   ]
  },
  {
   "cell_type": "code",
   "execution_count": 179,
   "metadata": {},
   "outputs": [
    {
     "data": {
      "text/plain": [
       "(300,)"
      ]
     },
     "execution_count": 179,
     "metadata": {},
     "output_type": "execute_result"
    }
   ],
   "source": [
    "stim_sizes.shape"
   ]
  },
  {
   "cell_type": "code",
   "execution_count": 180,
   "metadata": {},
   "outputs": [
    {
     "data": {
      "text/plain": [
       "array([7, 8, 6, 6, 2, 9, 6, 1, 5, 9, 1, 3, 7, 5, 6, 0, 2, 5, 1, 3, 3, 4,\n",
       "       0, 2, 2, 7, 2, 8, 9, 2, 7, 3, 2, 0, 8, 7, 6, 5, 8, 4, 2, 3, 0, 1,\n",
       "       3, 1, 5, 8, 1, 4, 0, 3, 7, 6, 7, 0, 3, 6, 4, 0, 9, 6, 5, 9, 8, 3,\n",
       "       5, 9, 9, 0, 1, 4, 3, 9, 8, 9, 6, 4, 3, 0, 5, 4, 5, 7, 3, 7, 8, 3,\n",
       "       8, 9, 4, 1, 8, 1, 3, 3, 1, 3, 5, 9, 8, 7, 3, 1, 4, 1, 0, 5, 6, 0,\n",
       "       9, 9, 3, 4, 4, 5, 5, 1, 4, 1, 8, 3, 2, 6, 2, 9, 7, 0, 8, 3, 3, 7,\n",
       "       9, 8, 0, 0, 9, 8, 5, 2, 0, 0, 2, 2, 9, 4, 4, 0, 1, 5, 7, 6, 5, 3,\n",
       "       6, 6, 2, 2, 1, 9, 9, 6, 1, 9, 9, 4, 6, 0, 4, 1, 6, 5, 6, 5, 9, 5,\n",
       "       2, 0, 2, 1, 1, 8, 2, 6, 8, 4, 0, 9, 3, 2, 3, 9, 4, 2, 7, 7, 0, 7,\n",
       "       5, 6, 0, 8, 7, 6, 2, 0, 4, 7, 4, 8, 1, 3, 8, 6, 7, 2, 0, 7, 3, 1,\n",
       "       8, 5, 8, 7, 2, 8, 2, 9, 5, 3, 7, 8, 0, 1, 4, 8, 6, 8, 2, 7, 7, 8,\n",
       "       7, 1, 3, 1, 1, 6, 0, 4, 2, 1, 9, 4, 4, 3, 2, 9, 4, 4, 4, 6, 6, 4,\n",
       "       0, 9, 4, 5, 5, 5, 7, 6, 0, 5, 1, 2, 7, 5, 2, 5, 5, 2, 9, 0, 6, 1,\n",
       "       0, 6, 7, 1, 3, 8, 7, 7, 8, 4, 5, 9, 6, 8])"
      ]
     },
     "execution_count": 180,
     "metadata": {},
     "output_type": "execute_result"
    }
   ],
   "source": [
    "experiment_stims"
   ]
  },
  {
   "cell_type": "code",
   "execution_count": 181,
   "metadata": {},
   "outputs": [
    {
     "data": {
      "text/plain": [
       "array([100,  10,  10,  50,  10, 100,  10,  50, 100, 100,  50,  10, 100,\n",
       "        10,  10,  50,  10,  10,  50,  10,  10,  10,  50,  10,  50,  50,\n",
       "        50,  10, 100,  50, 100,  50, 100,  10, 100, 100,  10, 100,  10,\n",
       "        50,  10,  50,  10,  10,  50,  10, 100,  10, 100,  10, 100,  50,\n",
       "        10,  10, 100,  10, 100,  50, 100, 100,  50,  50,  50,  10, 100,\n",
       "       100,  50,  10, 100, 100, 100,  50,  50, 100,  10, 100, 100, 100,\n",
       "       100,  10,  50,  10,  50,  10,  50,  10,  50, 100,  10, 100,  10,\n",
       "       100,  50, 100,  10,  50, 100, 100,  10,  50,  50,  50,  10,  10,\n",
       "       100,  50,  50,  10,  10,  50,  10,  50,  10, 100,  10, 100, 100,\n",
       "        10, 100, 100, 100,  50,  10, 100,  50,  50, 100, 100,  10,  10,\n",
       "        10, 100,  50,  50, 100, 100,  10,  10,  10,  50,  10, 100,  10,\n",
       "       100, 100,  10, 100,  50,  10,  50,  10,  10, 100,  50, 100,  50,\n",
       "       100,  50,  50, 100,  10,  50, 100,  50, 100,  50,  10,  10,  50,\n",
       "       100,  50,  10, 100,  50,  10,  50, 100,  10,  50,  50,  50, 100,\n",
       "       100, 100,  50,  10,  50,  10, 100,  10, 100,  50,  50,  10,  10,\n",
       "        10,  50,  50,  10, 100,  50,  50, 100, 100,  50, 100, 100,  50,\n",
       "        10, 100,  10, 100,  50,  50,  50,  10,  10,  10, 100,  50, 100,\n",
       "       100,  50,  50, 100, 100,  50,  50, 100, 100,  10, 100,  10,  50,\n",
       "        50,  50, 100,  10, 100,  50, 100, 100, 100,  50,  50,  10,  10,\n",
       "        10, 100,  50,  50, 100,  50,  50,  10,  10, 100,  10,  50, 100,\n",
       "        10,  10, 100, 100,  10,  50, 100, 100,  50,  10,  10,  50, 100,\n",
       "        10,  10, 100,  10,  50, 100,  10, 100,  10,  10,  50, 100, 100,\n",
       "        50,  50,  50,  10,  10,  10,  50,  50, 100,  50,  50,  10,  50,\n",
       "        50])"
      ]
     },
     "execution_count": 181,
     "metadata": {},
     "output_type": "execute_result"
    }
   ],
   "source": [
    "stim_sizes"
   ]
  },
  {
   "cell_type": "code",
   "execution_count": 188,
   "metadata": {},
   "outputs": [
    {
     "data": {
      "text/plain": [
       "10"
      ]
     },
     "execution_count": 188,
     "metadata": {},
     "output_type": "execute_result"
    }
   ],
   "source": [
    "(stim_sizes[np.where(experiment_stims==1)]==100).sum()"
   ]
  },
  {
   "cell_type": "code",
   "execution_count": null,
   "metadata": {},
   "outputs": [],
   "source": []
  },
  {
   "cell_type": "code",
   "execution_count": null,
   "metadata": {},
   "outputs": [],
   "source": []
  },
  {
   "cell_type": "code",
   "execution_count": null,
   "metadata": {},
   "outputs": [],
   "source": []
  }
 ],
 "metadata": {
  "kernelspec": {
   "display_name": "Python 3",
   "language": "python",
   "name": "python3"
  },
  "language_info": {
   "codemirror_mode": {
    "name": "ipython",
    "version": 3
   },
   "file_extension": ".py",
   "mimetype": "text/x-python",
   "name": "python",
   "nbconvert_exporter": "python",
   "pygments_lexer": "ipython3",
   "version": "3.6.9"
  }
 },
 "nbformat": 4,
 "nbformat_minor": 2
}
